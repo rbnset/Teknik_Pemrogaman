{
 "metadata": {
  "language_info": {
   "codemirror_mode": {
    "name": "ipython",
    "version": 3
   },
   "file_extension": ".py",
   "mimetype": "text/x-python",
   "name": "python",
   "nbconvert_exporter": "python",
   "pygments_lexer": "ipython3",
   "version": "3.9.2"
  },
  "orig_nbformat": 4,
  "kernelspec": {
   "name": "python3",
   "display_name": "Python 3.9.2 64-bit"
  },
  "interpreter": {
   "hash": "63fd5069d213b44bf678585dea6b12cceca9941eaf7f819626cde1f2670de90d"
  }
 },
 "nbformat": 4,
 "nbformat_minor": 2,
 "cells": [
  {
   "cell_type": "code",
   "execution_count": 1,
   "metadata": {},
   "outputs": [
    {
     "output_type": "stream",
     "name": "stdout",
     "text": [
      "Della Rizky\nDeny Irawan\nDestenty Manabung\nNimas Dewi Ayu\nRobin Setiyawan\nSonia Anggraini\nTadem Virgi\n"
     ]
    }
   ],
   "source": [
    "# Program Pengurutan Nama dengan String\n",
    "\n",
    "nama = 'Robin Setiyawan', 'Tadem Virgi', 'Deny Irawan', 'Destenty Manabung', 'Della Rizky', 'Sonia Anggraini', 'Nimas Dewi Ayu'\n",
    "\n",
    "\n",
    "# Menggunakan Fungsi Shorted\n",
    "\n",
    "for urut in sorted(nama):\n",
    "    print(urut)\n"
   ]
  },
  {
   "cell_type": "code",
   "execution_count": null,
   "metadata": {},
   "outputs": [],
   "source": []
  }
 ]
}