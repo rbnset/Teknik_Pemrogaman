{
 "metadata": {
  "language_info": {
   "codemirror_mode": {
    "name": "ipython",
    "version": 3
   },
   "file_extension": ".py",
   "mimetype": "text/x-python",
   "name": "python",
   "nbconvert_exporter": "python",
   "pygments_lexer": "ipython3",
   "version": "3.9.2"
  },
  "orig_nbformat": 4,
  "kernelspec": {
   "name": "python3",
   "display_name": "Python 3.9.2 64-bit"
  },
  "interpreter": {
   "hash": "63fd5069d213b44bf678585dea6b12cceca9941eaf7f819626cde1f2670de90d"
  }
 },
 "nbformat": 4,
 "nbformat_minor": 2,
 "cells": [
  {
   "cell_type": "code",
   "execution_count": 1,
   "metadata": {},
   "outputs": [
    {
     "output_type": "stream",
     "name": "stdout",
     "text": [
      "Angka ketemu di index = 3 \n"
     ]
    }
   ],
   "source": [
    "# Pencarian dengan Linear Search (Pencarian Mdoe Linier)\n",
    "\n",
    "def linierSearch(lists, dicari):\n",
    "    posisi = 0\n",
    "    ketemu = False\n",
    "    while posisi < len(lists) and not ketemu:\n",
    "        if dicari == lists[posisi]:\n",
    "            ketemu = True\n",
    "        posisi += 1\n",
    "    print('Angka ketemu di index = %i ' % posisi)\n",
    "\n",
    "\n",
    "lists = []\n",
    "a = int(input('Masukkan beberapa panjang list yang ingin dibuat = '))\n",
    "for i in range(a):\n",
    "    x = int(input('Masukkan angka ke %i untuk list = ' % (i+1)))\n",
    "    lists.append(x)\n",
    "dicari = int(input('Masukkan angka yang dicari = '))\n",
    "linierSearch(lists, dicari)\n"
   ]
  },
  {
   "cell_type": "code",
   "execution_count": 2,
   "metadata": {},
   "outputs": [
    {
     "output_type": "stream",
     "name": "stdout",
     "text": [
      "Angka ditemukan!\nposisi angka yang ditemukan adalah 4\nLangkah yang sudah di ambil dalam menemukan adalah 4 langkah\n"
     ]
    }
   ],
   "source": [
    "# Pencarian dengan Binary Search (Pencarian Biner)\n",
    "\n",
    "def binary_search(angka, listku):\n",
    "    listku.sort()  # Penyortiran List\n",
    "    langkah = 0\n",
    "    ketemu = False\n",
    "    awal = 0\n",
    "    akhir = len(listku)-1\n",
    "    while awal <= akhir and not ketemu:\n",
    "        tengah = (awal+akhir)//2\n",
    "        if listku[tengah] == angka:\n",
    "            ketemu = True\n",
    "        elif angka > tengah:\n",
    "            awal = tengah+1\n",
    "        else:\n",
    "            akhir = tengah-1\n",
    "        langkah += 1\n",
    "    if ketemu:\n",
    "        print('Angka ditemukan!')\n",
    "        print('posisi angka yang ditemukan adalah %s' % str(awal+1))\n",
    "    else:\n",
    "        print('Angka yang anda masukkan tidak ditemukan!')\n",
    "    print('Langkah yang sudah di ambil dalam menemukan adalah %s langkah' % langkah)\n",
    "\n",
    "\n",
    "binary_search(3, [1, 1, 2, 6, 7, 8, 9, 3, 4])\n"
   ]
  },
  {
   "cell_type": "code",
   "execution_count": 4,
   "metadata": {},
   "outputs": [
    {
     "output_type": "stream",
     "name": "stdout",
     "text": [
      "Nilai :  5 tidak ditemukan\nNilai :  5 tidak ditemukan\nNilai :  5 tidak ditemukan\nNilai :  5 tidak ditemukan\nNilai :  5 tidak ditemukan\nNilai :  5 tidak ditemukan\nNilai :  5 tidak ditemukan\nNilai :  5 tidak ditemukan\n"
     ]
    }
   ],
   "source": [
    "# Pencarian Sequential\n",
    "# Program pencarian beruntun\n",
    "\n",
    "a = [10, 4, 2, 3, 7, 1, 6, 8]\n",
    "cari = input('Masukkan nilai yang dicari : ')\n",
    "ketemu = False\n",
    "for i in range(0, len(a)):\n",
    "    if cari == a[i]:\n",
    "        ketemu = True\n",
    "        break\n",
    "    if ketemu:\n",
    "        print('Nilai : ', cari, 'berhasil ditemukan')\n",
    "    else:\n",
    "        print('Nilai : ', cari, 'tidak ditemukan')\n"
   ]
  },
  {
   "cell_type": "code",
   "execution_count": 1,
   "metadata": {},
   "outputs": [
    {
     "output_type": "stream",
     "name": "stdout",
     "text": [
      "45\n3\n"
     ]
    }
   ],
   "source": [
    "# Contoh cari nilai maksimal dari setuap element list\n",
    "# inisialisasi nilai dalam list dengan variabel angka\n",
    "\n",
    "angka = [3, 45, 22, 10]\n",
    "\n",
    "# Cari nilai maksimal dari dalam list variabel angka\n",
    "print(max(angka))\n",
    "\n",
    "# Cari nilai minimal dari dalam list variavel angka\n",
    "print(min(angka))\n"
   ]
  },
  {
   "cell_type": "code",
   "execution_count": 1,
   "metadata": {},
   "outputs": [
    {
     "output_type": "stream",
     "name": "stdout",
     "text": [
      "Yup, buku yang anda cari tersedia di perpustakaan\n"
     ]
    }
   ],
   "source": [
    "# Program pencarian judul buku baru di perpustakaan\n",
    "\n",
    "def linearSearch(item, my_list):\n",
    "    found = False\n",
    "    position = 0\n",
    "    while position < len(my_list) and not found:\n",
    "        if my_list[position] == item:\n",
    "            found = True\n",
    "        position = position + 1\n",
    "    return found\n",
    "\n",
    "\n",
    "book = ['100 startup', 'daily reader', 'petunjuk ui ux',\n",
    "        'dont make me think', 'design thingking', 'hooked', 'sapiens', 'sprint']\n",
    "item = input('Masukkan judul buku terbaru yang ingin kamu cari : ')\n",
    "itemFound = linearSearch(item, book)\n",
    "if itemFound:\n",
    "    print('Yup, buku yang anda cari tersedia di perpustakaan')\n",
    "else:\n",
    "    print('Oops, buku yang anda cari belum tersedia')\n"
   ]
  },
  {
   "cell_type": "code",
   "execution_count": null,
   "metadata": {},
   "outputs": [],
   "source": []
  }
 ]
}