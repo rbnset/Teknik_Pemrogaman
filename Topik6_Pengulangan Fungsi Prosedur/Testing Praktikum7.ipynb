{
 "metadata": {
  "language_info": {
   "codemirror_mode": {
    "name": "ipython",
    "version": 3
   },
   "file_extension": ".py",
   "mimetype": "text/x-python",
   "name": "python",
   "nbconvert_exporter": "python",
   "pygments_lexer": "ipython3",
   "version": "3.9.2"
  },
  "orig_nbformat": 2,
  "kernelspec": {
   "name": "python392jvsc74a57bd063fd5069d213b44bf678585dea6b12cceca9941eaf7f819626cde1f2670de90d",
   "display_name": "Python 3.9.2 64-bit"
  },
  "metadata": {
   "interpreter": {
    "hash": "63fd5069d213b44bf678585dea6b12cceca9941eaf7f819626cde1f2670de90d"
   }
  }
 },
 "nbformat": 4,
 "nbformat_minor": 2,
 "cells": [
  {
   "cell_type": "code",
   "execution_count": 1,
   "metadata": {},
   "outputs": [
    {
     "output_type": "stream",
     "name": "stdout",
     "text": [
      "12\n"
     ]
    }
   ],
   "source": [
    "def tambah(a, b):\n",
    "    print(a+b)\n",
    "\n",
    "\n",
    "tambah(10, 2)\n"
   ]
  },
  {
   "cell_type": "code",
   "execution_count": 2,
   "metadata": {},
   "outputs": [
    {
     "output_type": "stream",
     "name": "stdout",
     "text": [
      "15\n20.0\n25\n30\n"
     ]
    }
   ],
   "source": [
    "# contoh program dengan fungsi\n",
    "\n",
    "def perkalian(angka1, angka2):\n",
    "    hasil = angka1 * angka2\n",
    "    return hasil\n",
    "\n",
    "\n",
    "def pembagian(ankga1, angka2):\n",
    "    hasil = ankga1 / angka2\n",
    "    return hasil\n",
    "\n",
    "\n",
    "def pertambahan(angka1, angka2):\n",
    "    hasil = angka1 + angka2\n",
    "    return hasil\n",
    "\n",
    "\n",
    "def pengurangan(angka1, angka2):\n",
    "    hasil = angka1 - angka2\n",
    "    return hasil\n",
    "\n",
    "\n",
    "print(perkalian(5, 3))\n",
    "print(pembagian(80, 4))\n",
    "print(pertambahan(13, 12))\n",
    "print(pengurangan(60, 30))\n"
   ]
  },
  {
   "cell_type": "code",
   "execution_count": 3,
   "metadata": {},
   "outputs": [
    {
     "output_type": "stream",
     "name": "stdout",
     "text": [
      " Pilihan Operasi.\n",
      "1. Jumlah\n",
      "2. Kurang\n",
      "3. Kali\n",
      "4. Bagi\n",
      "12 * 12 = 144\n"
     ]
    }
   ],
   "source": [
    "# fungsi penjumlahan\n",
    "def add(x, y):\n",
    "    return x + y\n",
    "# fungsi perngurangan\n",
    "\n",
    "\n",
    "def substract(x, y):\n",
    "    return x - y\n",
    "\n",
    "# fungsi perkalian\n",
    "\n",
    "\n",
    "def multiply(x, y):\n",
    "    return x * y\n",
    "\n",
    "# fungsi pembagian\n",
    "\n",
    "\n",
    "def divide(x, y):\n",
    "    return x / y\n",
    "\n",
    "\n",
    "# menu operasi\n",
    "print(' Pilihan Operasi.')\n",
    "print('1. Jumlah')\n",
    "print('2. Kurang')\n",
    "print('3. Kali')\n",
    "print('4. Bagi')\n",
    "\n",
    "# Meminta input dari pengguna\n",
    "choice = input('Masukkan pilihan operasi (1/2/3/4) :')\n",
    "\n",
    "num1 = int(input('Masukkan bilangan pertama : '))\n",
    "num2 = int(input('Masukkan bilangan kedua : '))\n",
    "\n",
    "\n",
    "if choice == '1':\n",
    "    print(num1, '+', num2, '=', add(num1, num2))\n",
    "\n",
    "elif choice == '2':\n",
    "    print(num1, '-', num2, '=', substract(num1, num2))\n",
    "\n",
    "elif choice == '3':\n",
    "    print(num1, '*', num2, '=', multiply(num1, num2))\n",
    "\n",
    "elif choice == '4':\n",
    "    print(num1, '/', num2, '=', divide(num1, num2))\n",
    "\n",
    "else:\n",
    "    print('Input Salah')\n"
   ]
  },
  {
   "cell_type": "code",
   "execution_count": 4,
   "metadata": {},
   "outputs": [
    {
     "output_type": "stream",
     "name": "stdout",
     "text": [
      "After Calling the Function :  7\n"
     ]
    }
   ],
   "source": [
    "def Adding(a, b):\n",
    "    Sum = a + b\n",
    "    return Sum\n",
    "\n",
    "\n",
    "print(\"After Calling the Function : \", Adding(3, 4))\n"
   ]
  },
  {
   "cell_type": "code",
   "execution_count": 5,
   "metadata": {},
   "outputs": [
    {
     "output_type": "stream",
     "name": "stdout",
     "text": [
      "\n 9 is the Total Sum of three Numbers.\n\n 3 is the Average of three Numbers. \n\n\n 60 is the Total Sum of three Numbers.\n\n 20 is the Average of three Numbers. \n\n"
     ]
    }
   ],
   "source": [
    "# Function Example\n",
    "def sumAndAverage(x, y, z):\n",
    "    Sum = x + y + z\n",
    "    Average = Sum/3\n",
    "    print(\"\\n %d is the Total Sum of three Numbers.\" % Sum)\n",
    "    print(\"\\n %d is the Average of three Numbers. \\n\" % Average)\n",
    "\n",
    "\n",
    "# Allows User to enter three values\n",
    "a = int(input(\"/nPlease Enter the First Value. a = \"))\n",
    "b = int(input(\"/nPlease Enter the Second Value. b = \"))\n",
    "c = int(input(\"/nPlease Enter the Third Value. c = \"))\n",
    "\n",
    "# Calling the Function\n",
    "sumAndAverage(a, b, c)\n",
    "sumAndAverage(10, 20, 30)"
   ]
  },
  {
   "cell_type": "code",
   "execution_count": 6,
   "metadata": {},
   "outputs": [
    {
     "output_type": "stream",
     "name": "stdout",
     "text": [
      "hasilnya adalah 198 \n"
     ]
    }
   ],
   "source": [
    "def ceknilai(nilai):\n",
    "    if nilai % 2 == 0:\n",
    "        nilai += 2\n",
    "    else:\n",
    "        nilai *= 2\n",
    "\n",
    "    return nilai\n",
    "\n",
    "\n",
    "angka = input(\"masukkan nilai = \")\n",
    "hasil = ceknilai(int(angka))\n",
    "\n",
    "print(\"hasilnya adalah {} \".format(hasil))\n"
   ]
  },
  {
   "cell_type": "code",
   "execution_count": 7,
   "metadata": {},
   "outputs": [
    {
     "output_type": "stream",
     "name": "stdout",
     "text": [
      "1. Luas Persegi\n",
      "2. Kelling Persegi\n",
      "Luas persegi =  16\n",
      "1. Luas Persegi\n",
      "2. Kelling Persegi\n",
      "Keliling persegi =  16\n",
      "Terima Kasih\n"
     ]
    }
   ],
   "source": [
    "def luas_persegi(panjang, lebar):\n",
    "    return panjang*lebar\n",
    "\n",
    "\n",
    "def keliling_persegi(panjang, lebar):\n",
    "    return 2*(panjang+lebar)\n",
    "\n",
    "\n",
    "def menu():\n",
    "    print('1. Luas Persegi')\n",
    "    print('2. Kelling Persegi')\n",
    "    pilih = int(input('Masukkan angka pilihan = '))\n",
    "    if pilih == 1:\n",
    "        panjang = int(input('Masukkan panjang = '))\n",
    "        lebar = int(input('Masukkan lebar = '))\n",
    "        print('Luas persegi = ', keliling_persegi(panjang, lebar))\n",
    "    elif pilih == 2:\n",
    "        panjang = int(input('Masukkan panjang = '))\n",
    "        lebar = int(input('Masukkan Lebat = '))\n",
    "        print('Keliling persegi = ', keliling_persegi(panjang, lebar))\n",
    "    else:\n",
    "        print('Todak ada  pilihan')\n",
    "    ans = 'Y'\n",
    "    ans = str(input('Do you want again (Y/N)?'))\n",
    "    if ans == 'y' or ans == 'Y':\n",
    "        menu()\n",
    "    else:\n",
    "        print('Terima Kasih')\n",
    "\n",
    "\n",
    "menu()\n"
   ]
  },
  {
   "cell_type": "code",
   "execution_count": 8,
   "metadata": {},
   "outputs": [
    {
     "output_type": "stream",
     "name": "stdout",
     "text": [
      "---------Nilai Ke  1 ------------\n",
      "-------Total Niali----------\n",
      "Total nilai yang didapat :  97.0\n",
      "Total Nilai Dalam Huruf :  A\n"
     ]
    }
   ],
   "source": [
    "# Deklrasi Fungsi Operator\n",
    "def fungsi_total_nilai(var_harian, var_uts, var_uas):\n",
    "    var_harian = int(var_harian) * 0.3\n",
    "    var_uts = int(var_uts) * 0.3\n",
    "    var_uas = int(var_uas) * 0.4\n",
    "\n",
    "    var_total = var_harian + var_uts + var_uas\n",
    "    return var_total\n",
    "# Deklarasi Fungsi Percabangan\n",
    "\n",
    "\n",
    "def fungsi_percabangan(var_nilai):\n",
    "    var_huruf = \"\"\n",
    "    if (var_nilai >= 0 and var_nilai < 20):\n",
    "        var_huruf = \"E\"\n",
    "    elif(var_nilai >= 20 and var_nilai < 40):\n",
    "        var_huruf = \"D\"\n",
    "    elif(var_nilai >= 40 and var_nilai < 60):\n",
    "        var_huruf = \"C\"\n",
    "    elif(var_nilai >= 60 and var_nilai < 80):\n",
    "        var_huruf = \"B\"\n",
    "    elif(var_nilai >= 80 and var_nilai < 100):\n",
    "        var_huruf = \"A\"\n",
    "    return var_huruf\n",
    "\n",
    "# Deklarasi Fungsi Perulangan\n",
    "\n",
    "\n",
    "def fungsi_perulangan():\n",
    "    var_hasil_perulangan = 0\n",
    "    for i in range(1, 3):\n",
    "        print(\"---------Nilai Ke \", i, \"------------\")\n",
    "        var_harian = input(\"Nilai Harian : \")\n",
    "        var_uts = input(\"Nilai UTS : \")\n",
    "        var_uas = input(\"Nilai UAS : \")\n",
    "\n",
    "        # Pemanggilan fungsi Penjumlahan\n",
    "        var_hasil_perulangan += (int(fungsi_total_nilai(var_harian,\n",
    "                                                        var_uts,\n",
    "                                                        var_uas)))\n",
    "\n",
    "        return var_hasil_perulangan / i\n",
    "\n",
    "\n",
    "# Pemanggilaan fungsi perulangan\n",
    "var_total = fungsi_perulangan()\n",
    "\n",
    "print(\"-------Total Niali----------\")\n",
    "print(\"Total nilai yang didapat : \", var_total)\n",
    "\n",
    "# Pemanggialan Fungsi Percabangan\n",
    "print(\"Total Nilai Dalam Huruf : \", fungsi_percabangan(var_total))\n"
   ]
  },
  {
   "cell_type": "code",
   "execution_count": null,
   "metadata": {},
   "outputs": [],
   "source": []
  }
 ]
}