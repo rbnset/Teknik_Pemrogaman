{
 "metadata": {
  "language_info": {
   "codemirror_mode": {
    "name": "ipython",
    "version": 3
   },
   "file_extension": ".py",
   "mimetype": "text/x-python",
   "name": "python",
   "nbconvert_exporter": "python",
   "pygments_lexer": "ipython3",
   "version": "3.9.2"
  },
  "orig_nbformat": 4,
  "kernelspec": {
   "name": "python3",
   "display_name": "Python 3.9.2 64-bit"
  },
  "interpreter": {
   "hash": "63fd5069d213b44bf678585dea6b12cceca9941eaf7f819626cde1f2670de90d"
  }
 },
 "nbformat": 4,
 "nbformat_minor": 2,
 "cells": [
  {
   "cell_type": "code",
   "execution_count": 1,
   "metadata": {},
   "outputs": [
    {
     "output_type": "stream",
     "name": "stdout",
     "text": [
      "{'apel': 'apple', 'nanas': 'pineapple', 'pisang': 'banana'}\n"
     ]
    }
   ],
   "source": [
    "# Pengantar\n",
    "# Cara membentuk kamus dengan nama buah\n",
    "\n",
    "buah = {'apel': 'apple', 'nanas': 'pineapple', 'pisang': 'banana'}\n",
    "print(buah)\n"
   ]
  },
  {
   "cell_type": "code",
   "execution_count": 2,
   "metadata": {},
   "outputs": [
    {
     "output_type": "stream",
     "name": "stdout",
     "text": [
      "3\n0\n"
     ]
    }
   ],
   "source": [
    "# Cara  mendapatkan jumlah pasangan kunci dan nilai\n",
    "\n",
    "buah = {'apel': 'apple', 'nanas': 'pineapple', 'pisang': 'banana'}\n",
    "a = len(buah)\n",
    "hewan = {}\n",
    "b = len(hewan)\n",
    "print(a)\n",
    "print(b)\n"
   ]
  },
  {
   "cell_type": "code",
   "execution_count": 3,
   "metadata": {},
   "outputs": [
    {
     "output_type": "stream",
     "name": "stdout",
     "text": [
      "pineapple\n"
     ]
    },
    {
     "output_type": "error",
     "ename": "KeyError",
     "evalue": "'alpukat'",
     "traceback": [
      "\u001b[1;31m---------------------------------------------------------------------------\u001b[0m",
      "\u001b[1;31mKeyError\u001b[0m                                  Traceback (most recent call last)",
      "\u001b[1;32m<ipython-input-3-f69467c1c75f>\u001b[0m in \u001b[0;36m<module>\u001b[1;34m\u001b[0m\n\u001b[0;32m      3\u001b[0m \u001b[0mbuah\u001b[0m \u001b[1;33m=\u001b[0m \u001b[1;33m{\u001b[0m\u001b[1;34m'apel'\u001b[0m\u001b[1;33m:\u001b[0m \u001b[1;34m'apple'\u001b[0m\u001b[1;33m,\u001b[0m \u001b[1;34m'nanas'\u001b[0m\u001b[1;33m:\u001b[0m \u001b[1;34m'pineapple'\u001b[0m\u001b[1;33m,\u001b[0m \u001b[1;34m'pisang'\u001b[0m\u001b[1;33m:\u001b[0m \u001b[1;34m'banana'\u001b[0m\u001b[1;33m}\u001b[0m\u001b[1;33m\u001b[0m\u001b[1;33m\u001b[0m\u001b[0m\n\u001b[0;32m      4\u001b[0m \u001b[0mprint\u001b[0m\u001b[1;33m(\u001b[0m\u001b[0mbuah\u001b[0m\u001b[1;33m[\u001b[0m\u001b[1;34m'nanas'\u001b[0m\u001b[1;33m]\u001b[0m\u001b[1;33m)\u001b[0m\u001b[1;33m\u001b[0m\u001b[1;33m\u001b[0m\u001b[0m\n\u001b[1;32m----> 5\u001b[1;33m \u001b[0mprint\u001b[0m\u001b[1;33m(\u001b[0m\u001b[0mbuah\u001b[0m\u001b[1;33m[\u001b[0m\u001b[1;34m'alpukat'\u001b[0m\u001b[1;33m]\u001b[0m\u001b[1;33m)\u001b[0m\u001b[1;33m\u001b[0m\u001b[1;33m\u001b[0m\u001b[0m\n\u001b[0m",
      "\u001b[1;31mKeyError\u001b[0m: 'alpukat'"
     ]
    }
   ],
   "source": [
    "# Pengaksesan elemen pada kamus\n",
    "\n",
    "buah = {'apel': 'apple', 'nanas': 'pineapple', 'pisang': 'banana'}\n",
    "print(buah['nanas'])\n",
    "print(buah['alpukat'])\n"
   ]
  },
  {
   "cell_type": "code",
   "execution_count": 4,
   "metadata": {},
   "outputs": [
    {
     "output_type": "stream",
     "name": "stdout",
     "text": [
      "pineapple\nNone\n"
     ]
    }
   ],
   "source": [
    "# Pengaksesan elemen pada kamus\n",
    "\n",
    "buah = {'apel': 'apple', 'nanas': 'pineapple', 'pisang': 'banana'}\n",
    "print(buah.get('nanas'))\n",
    "print(buah.get('alpukat'))\n"
   ]
  },
  {
   "cell_type": "code",
   "execution_count": 5,
   "metadata": {},
   "outputs": [
    {
     "output_type": "stream",
     "name": "stdout",
     "text": [
      "pineapple\ntidak tesedia\n"
     ]
    }
   ],
   "source": [
    "# Pengaksesan elemen pada kamus\n",
    "\n",
    "buah = {'apel': 'apple', 'nanas': 'pineapple', 'pisang': 'banana'}\n",
    "print(buah.get('nanas', 'tidak tersedia'))\n",
    "print(buah.get('alpukat', 'tidak tesedia'))\n"
   ]
  },
  {
   "cell_type": "code",
   "execution_count": 6,
   "metadata": {},
   "outputs": [
    {
     "output_type": "stream",
     "name": "stdout",
     "text": [
      "Ketik selesai untuk mengakhiri\n",
      "Bahasa Inggrisnya :  bird\n",
      "\n",
      "*** Selesai\n"
     ]
    }
   ],
   "source": [
    "# Contoh kamus\n",
    "\n",
    "kamus = {'anjing': 'dog', 'burung': 'bird', 'harimau': 'tiger', 'merpati': 'dove', 'kambing': 'goat',\n",
    "         'kelelawar': 'bat', 'kelinci': 'rabbit', 'kera': 'monkey', 'kucing': 'cat', 'sapi': 'cow'}\n",
    "\n",
    "print('Ketik selesai untuk mengakhiri')\n",
    "while True:\n",
    "    kunci = input('Nama Hewan : ')\n",
    "    kunci = kunci.lower()\n",
    "    if kunci == 'selesai':\n",
    "        break\n",
    "    hasil = kamus.get(kunci, 'saya tidak tahu')\n",
    "    print('Bahasa Inggrisnya : ', hasil)\n",
    "    print()\n",
    "    print('*** Selesai')\n"
   ]
  },
  {
   "cell_type": "code",
   "execution_count": 7,
   "metadata": {},
   "outputs": [
    {
     "output_type": "stream",
     "name": "stdout",
     "text": [
      "['apel', 'nanas', 'pisang']\n"
     ]
    }
   ],
   "source": [
    "# Pengaksesan elemen pada kamus\n",
    "\n",
    "buah = {'apel': 'apple', 'nanas': 'pineapple', 'pisang': 'banana'}\n",
    "daftar = list(buah.keys())\n",
    "print(daftar)\n"
   ]
  },
  {
   "cell_type": "code",
   "execution_count": 8,
   "metadata": {},
   "outputs": [
    {
     "output_type": "stream",
     "name": "stdout",
     "text": [
      "anjing    :dog       \nburung    :bird      \nharimau   :tiger     \nmerpati   :dove      \nkambing   :goat      \nkelelawar :bat       \nkelinci   :rabbit    \nkera      :monkey    \nkucing    :cat       \nsapi      :cow       \n"
     ]
    }
   ],
   "source": [
    "# Contoh kamus\n",
    "\n",
    "kamus = {'anjing': 'dog', 'burung': 'bird', 'harimau': 'tiger', 'merpati': 'dove', 'kambing': 'goat',\n",
    "         'kelelawar': 'bat', 'kelinci': 'rabbit', 'kera': 'monkey', 'kucing': 'cat', 'sapi': 'cow'}\n",
    "\n",
    "daftarkunci = kamus.keys()\n",
    "for kunci in daftarkunci:\n",
    "    nilai = kamus[kunci]\n",
    "    print('%-10s:%-10s' % (kunci, nilai))\n"
   ]
  },
  {
   "cell_type": "code",
   "execution_count": 9,
   "metadata": {},
   "outputs": [
    {
     "output_type": "stream",
     "name": "stdout",
     "text": [
      "['apple', 'pineapple', 'banana']\n"
     ]
    }
   ],
   "source": [
    "# Pengaksesan elemen pada kamus\n",
    "\n",
    "buah = {'apel': 'apple', 'nanas': 'pineapple', 'pisang': 'banana'}\n",
    "daftar = list(buah.values())\n",
    "print(daftar)\n"
   ]
  },
  {
   "cell_type": "code",
   "execution_count": 10,
   "metadata": {},
   "outputs": [
    {
     "output_type": "stream",
     "name": "stdout",
     "text": [
      "[('apel', 'apple'), ('nanas', 'pineapple'), ('pisang', 'banana')]\n"
     ]
    }
   ],
   "source": [
    "# Pengaksesan elemen pada kamus\n",
    "\n",
    "buah = {'apel': 'apple', 'nanas': 'pineapple', 'pisang': 'banana'}\n",
    "daftar = list(buah.items())\n",
    "print(daftar)\n"
   ]
  },
  {
   "cell_type": "code",
   "execution_count": 11,
   "metadata": {},
   "outputs": [
    {
     "output_type": "stream",
     "name": "stdout",
     "text": [
      "{'TV-001': 1, 'TV-002': 5, 'TV-003': 3}\n{'TV-001': 1, 'TV-002': 4, 'TV-003': 3}\n"
     ]
    }
   ],
   "source": [
    "# Pemutakhiran data pada kamus\n",
    "\n",
    "inventori = {'TV-001': 1, 'TV-002': 5, 'TV-003': 3}\n",
    "print(inventori)\n",
    "inventori['TV-002'] = 4\n",
    "print(inventori)\n"
   ]
  },
  {
   "cell_type": "code",
   "execution_count": 12,
   "metadata": {},
   "outputs": [
    {
     "output_type": "stream",
     "name": "stdout",
     "text": [
      "{'TV-001': 1, 'TV-002': 5, 'TV-003': 3}\n{'TV-001': 1, 'TV-003': 3}\n{}\n"
     ]
    },
    {
     "output_type": "error",
     "ename": "NameError",
     "evalue": "name 'inventori' is not defined",
     "traceback": [
      "\u001b[1;31m---------------------------------------------------------------------------\u001b[0m",
      "\u001b[1;31mNameError\u001b[0m                                 Traceback (most recent call last)",
      "\u001b[1;32m<ipython-input-12-2563b8738d4a>\u001b[0m in \u001b[0;36m<module>\u001b[1;34m\u001b[0m\n\u001b[0;32m      8\u001b[0m \u001b[0mprint\u001b[0m\u001b[1;33m(\u001b[0m\u001b[0minventori\u001b[0m\u001b[1;33m)\u001b[0m\u001b[1;33m\u001b[0m\u001b[1;33m\u001b[0m\u001b[0m\n\u001b[0;32m      9\u001b[0m \u001b[1;32mdel\u001b[0m\u001b[1;33m(\u001b[0m\u001b[0minventori\u001b[0m\u001b[1;33m)\u001b[0m\u001b[1;33m\u001b[0m\u001b[1;33m\u001b[0m\u001b[0m\n\u001b[1;32m---> 10\u001b[1;33m \u001b[0mprint\u001b[0m\u001b[1;33m(\u001b[0m\u001b[0minventori\u001b[0m\u001b[1;33m)\u001b[0m\u001b[1;33m\u001b[0m\u001b[1;33m\u001b[0m\u001b[0m\n\u001b[0m",
      "\u001b[1;31mNameError\u001b[0m: name 'inventori' is not defined"
     ]
    }
   ],
   "source": [
    "# Pemutakhiran data pada kamus\n",
    "\n",
    "inventori = {'TV-001': 1, 'TV-002': 5, 'TV-003': 3}\n",
    "print(inventori)\n",
    "del(inventori['TV-002'])\n",
    "print(inventori)\n",
    "inventori.clear()\n",
    "print(inventori)\n",
    "del(inventori)\n",
    "print(inventori)\n"
   ]
  },
  {
   "cell_type": "code",
   "execution_count": 13,
   "metadata": {},
   "outputs": [
    {
     "output_type": "stream",
     "name": "stdout",
     "text": [
      "{'TV-001': 1, 'TV-002': 5, 'TV-003': 3}\n{'TV-001': 1, 'TV-002': 5, 'TV-003': 3, 'RD-005': 3}\n"
     ]
    }
   ],
   "source": [
    "# Penambahan data pada kamus\n",
    "\n",
    "inventori = {'TV-001': 1, 'TV-002': 5, 'TV-003': 3}\n",
    "print(inventori)\n",
    "inventori['RD-005'] = 3\n",
    "print(inventori)\n"
   ]
  },
  {
   "cell_type": "code",
   "execution_count": 15,
   "metadata": {},
   "outputs": [
    {
     "output_type": "execute_result",
     "data": {
      "text/plain": [
       "True"
      ]
     },
     "metadata": {},
     "execution_count": 15
    }
   ],
   "source": [
    "# Operator untuk kamus\n",
    "\n",
    "# Hasil True\n",
    "kamus1 = {'a': 1}\n",
    "kamus1 = {'a': 1, 'b': 2}\n",
    "kamus2 = {'b': 2, 'a': 1}\n",
    "kamus3 = {'A': 1, 'a': 2}\n",
    "kamus1 == kamus2\n"
   ]
  },
  {
   "cell_type": "code",
   "execution_count": 16,
   "metadata": {},
   "outputs": [
    {
     "output_type": "execute_result",
     "data": {
      "text/plain": [
       "True"
      ]
     },
     "metadata": {},
     "execution_count": 16
    }
   ],
   "source": [
    "# Hasil True\n",
    "kamus1 = {'a': 1}\n",
    "kamus1 = {'a': 1, 'b': 2}\n",
    "kamus2 = {'b': 2, 'a': 1}\n",
    "kamus3 = {'A': 1, 'a': 2}\n",
    "'b' in kamus1\n"
   ]
  },
  {
   "cell_type": "code",
   "execution_count": 17,
   "metadata": {},
   "outputs": [
    {
     "output_type": "execute_result",
     "data": {
      "text/plain": [
       "False"
      ]
     },
     "metadata": {},
     "execution_count": 17
    }
   ],
   "source": [
    "# Hasil False\n",
    "kamus1 = {'a': 1}\n",
    "kamus1 = {'a': 1, 'b': 2}\n",
    "kamus2 = {'b': 2, 'a': 1}\n",
    "kamus3 = {'A': 1, 'a': 2}\n",
    "'c' in kamus1\n"
   ]
  },
  {
   "cell_type": "code",
   "execution_count": 18,
   "metadata": {},
   "outputs": [
    {
     "output_type": "stream",
     "name": "stdout",
     "text": [
      "TV-001\nTV-002\nTV-003\n"
     ]
    }
   ],
   "source": [
    "# Pemrosesan elemen melalui perulangan\n",
    "\n",
    "inventori = {'TV-001': 1, 'TV-002': 5, 'TV-003': 3}\n",
    "for kunci in inventori:\n",
    "    print(kunci)\n"
   ]
  },
  {
   "cell_type": "code",
   "execution_count": 19,
   "metadata": {},
   "outputs": [
    {
     "output_type": "stream",
     "name": "stdout",
     "text": [
      "TV-001 : 1\nTV-002 : 5\nTV-003 : 3\n"
     ]
    }
   ],
   "source": [
    "# Pemrosesan elemen melalui perulangan\n",
    "\n",
    "inventori = {'TV-001': 1, 'TV-002': 5, 'TV-003': 3}\n",
    "for kunci in inventori:\n",
    "    print(kunci, ':', inventori[kunci])\n"
   ]
  },
  {
   "cell_type": "code",
   "execution_count": 21,
   "metadata": {},
   "outputs": [
    {
     "output_type": "stream",
     "name": "stdout",
     "text": [
      "Sebelum diurutkan menurut kunci\nred   :merah\nblue  :biru\ngreen :hijau\nwhite :putih\nyellow:kuning\n\nSedudah diurutkan menurut kunci\nblue  :biru\ngreen :hijau\nred   :merah\nwhite :putih\nyellow:kuning\n"
     ]
    }
   ],
   "source": [
    "# Pengurutab data\n",
    "\n",
    "warna = {'red': 'merah', 'blue': 'biru', 'green': 'hijau',\n",
    "         'white': 'putih', 'yellow': 'kuning'}\n",
    "print('Sebelum diurutkan menurut kunci')\n",
    "for kunci in warna:\n",
    "    print('%-6s:%-s' % (kunci, warna[kunci]))\n",
    "\n",
    "print()\n",
    "print('Sedudah diurutkan menurut kunci')\n",
    "daftarkunci = warna.keys()\n",
    "for kunci in sorted(daftarkunci):\n",
    "    print('%-6s:%-s' % (kunci, warna[kunci]))\n"
   ]
  },
  {
   "cell_type": "code",
   "execution_count": 22,
   "metadata": {},
   "outputs": [
    {
     "output_type": "stream",
     "name": "stdout",
     "text": [
      "Sebelum diurutkan menurut nilai\nred   :merah\nblue  :biru\ngreen :hijau\nwhite :putih\nyellow:kuning\n\nSedudah diurutkan menurut nilai\n[('blue', 'biru'), ('green', 'hijau'), ('yellow', 'kuning'), ('red', 'merah'), ('white', 'putih')]\nbiru  :blue\nhijau :green\nkuning:yellow\nmerah :red\nputih :white\n"
     ]
    }
   ],
   "source": [
    "# Pengurutan data\n",
    "\n",
    "warna = {'red': 'merah', 'blue': 'biru', 'green': 'hijau',\n",
    "         'white': 'putih', 'yellow': 'kuning'}\n",
    "print('Sebelum diurutkan menurut nilai')\n",
    "for kunci in warna:\n",
    "    print('%-6s:%-s' % (kunci, warna[kunci]))\n",
    "\n",
    "print()\n",
    "print('Sedudah diurutkan menurut nilai')\n",
    "hasil = sorted(warna.items(), key=lambda x: x[1])\n",
    "print(hasil)\n",
    "for data in hasil:\n",
    "    print('%-6s:%-s' % (data[1], data[0]))\n"
   ]
  },
  {
   "cell_type": "code",
   "execution_count": null,
   "metadata": {},
   "outputs": [],
   "source": []
  }
 ]
}