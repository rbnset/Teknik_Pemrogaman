{
 "metadata": {
  "language_info": {
   "codemirror_mode": {
    "name": "ipython",
    "version": 3
   },
   "file_extension": ".py",
   "mimetype": "text/x-python",
   "name": "python",
   "nbconvert_exporter": "python",
   "pygments_lexer": "ipython3",
   "version": "3.9.2"
  },
  "orig_nbformat": 4,
  "kernelspec": {
   "name": "python3",
   "display_name": "Python 3.9.2 64-bit"
  },
  "interpreter": {
   "hash": "63fd5069d213b44bf678585dea6b12cceca9941eaf7f819626cde1f2670de90d"
  }
 },
 "nbformat": 4,
 "nbformat_minor": 2,
 "cells": [
  {
   "cell_type": "code",
   "execution_count": 1,
   "metadata": {},
   "outputs": [
    {
     "output_type": "stream",
     "name": "stdout",
     "text": [
      "Berjalan sejak 12:00am, January 1, 1970 1626056885.2323136\n"
     ]
    }
   ],
   "source": [
    "# Penggunaan Tick\n",
    "\n",
    "import time  # Digunakan untuk meng-import modul time\n",
    "ticks = time.time()\n",
    "print('Berjalan sejak 12:00am, January 1, 1970', ticks)\n"
   ]
  },
  {
   "cell_type": "code",
   "execution_count": 2,
   "metadata": {},
   "outputs": [
    {
     "output_type": "stream",
     "name": "stdout",
     "text": [
      "Waktu lokal saat ini adalah :  time.struct_time(tm_year=2021, tm_mon=7, tm_mday=12, tm_hour=9, tm_min=28, tm_sec=51, tm_wday=0, tm_yday=193, tm_isdst=0)\n"
     ]
    }
   ],
   "source": [
    "# Mendapatkan waktu saat ini\n",
    "\n",
    "import time\n",
    "localtime = time.localtime(time.time())\n",
    "print('Waktu lokal saat ini adalah : ', localtime)\n"
   ]
  },
  {
   "cell_type": "code",
   "execution_count": 3,
   "metadata": {},
   "outputs": [
    {
     "output_type": "stream",
     "name": "stdout",
     "text": [
      "Waktu lokal saat ini :  Mon Jul 12 09:29:29 2021\n"
     ]
    }
   ],
   "source": [
    "# Mendapatkan waktu yang berformat\n",
    "\n",
    "import time\n",
    "\n",
    "localtime = time.asctime(time.localtime(time.time()))\n",
    "print('Waktu lokal saat ini : ', localtime)\n"
   ]
  },
  {
   "cell_type": "code",
   "execution_count": 4,
   "metadata": {},
   "outputs": [
    {
     "output_type": "stream",
     "name": "stdout",
     "text": [
      "Dibawah ini adalah kalender :\n     June 2020\nMo Tu We Th Fr Sa Su\n 1  2  3  4  5  6  7\n 8  9 10 11 12 13 14\n15 16 17 18 19 20 21\n22 23 24 25 26 27 28\n29 30\n\n"
     ]
    }
   ],
   "source": [
    "# Mendapatkan kalender dalam sebulan\n",
    "\n",
    "import calendar\n",
    "\n",
    "cal = calendar.month(2020, 6)\n",
    "print('Dibawah ini adalah kalender :')\n",
    "print(cal)\n"
   ]
  },
  {
   "cell_type": "code",
   "execution_count": 5,
   "metadata": {},
   "outputs": [
    {
     "output_type": "stream",
     "name": "stdout",
     "text": [
      ">>>>>>>>>>>>>>>>>>SELAMAT DATANG<<<<<<<<<<<<<<<<<<<<\n",
      "Masukan dalam format 24jam\n",
      "--------------------------\n",
      "\t\t\t\t\t \n",
      "durasinya 2 jam 20 menit 23 detik\n"
     ]
    }
   ],
   "source": [
    "# Program selisih jam\n",
    "\n",
    "#  judul\n",
    "# mencari durasi dari 2 waktu\n",
    "# kamus\n",
    "# jamawaljam = int\n",
    "# jamakhirjam = int\n",
    "# jamawalmenit = int\n",
    "# jamakhirmenit = int\n",
    "# jamawaldetik = int\n",
    "# jamakhirdetik = int\n",
    "# deskripsi\n",
    "print(\">>>>>>>>>>>>>>>>>>SELAMAT DATANG<<<<<<<<<<<<<<<<<<<<\")\n",
    "print(\"Masukan dalam format 24jam\")\n",
    "print(\"--------------------------\")\n",
    "jamawaljam = int(input(\"masukan jam awal: \"))\n",
    "jamawalmenit = int(input(\"masukan menit awal: \"))\n",
    "jamawaldetik = int(input(\"masukan detik awal: \"))\n",
    "print(\"\\t\\t\\t\\t\\t \")\n",
    "jamakhirjam = int(input(\"masukan jam akhir: \"))\n",
    "jamakhirmenit = int(input(\"masukan menit akhir: \"))\n",
    "jamakhirdetik = int(input(\"masukan detik akhir: \"))\n",
    "detikawal = jamawaljam * 3600 + jamawalmenit * 60 + jamawaldetik\n",
    "detikakhir = jamakhirjam * 3600 + jamakhirmenit * 60 + jamakhirdetik\n",
    "\n",
    "if(detikawal < detikakhir):\n",
    "    durasi = detikakhir - detikawal\n",
    "else:\n",
    "    durasi = (detikakhir+24*3600)-detikawal\n",
    "\n",
    "# konversi\n",
    "jamdurasijam = durasi/3600\n",
    "jamdurasimenit = (durasi % 3600)/60\n",
    "jamdurasidetik = durasi % 60\n",
    "\n",
    "# konversi (am 00.00-11.59 pm 12.00-23.59)\n",
    "\n",
    "print(\"durasinya %d jam %d menit %d detik\" %\n",
    "      (jamdurasijam, jamdurasimenit, jamdurasidetik))\n"
   ]
  },
  {
   "cell_type": "code",
   "execution_count": 6,
   "metadata": {},
   "outputs": [
    {
     "output_type": "stream",
     "name": "stdout",
     "text": [
      "Hari :  12\n",
      "Bulan :  7\n",
      "Tahun :  2021\n",
      "Jam :  9\n",
      "Menit :  32\n",
      "Detik :  36\n",
      "selisih detik :  5.014821\n"
     ]
    }
   ],
   "source": [
    "# Program untuk menghitung waktu sekarang\n",
    "\n",
    "import datetime\n",
    "import time\n",
    "\n",
    "sekarang = datetime.datetime.now()\n",
    "\n",
    "tanggal = sekarang.date()\n",
    "waktu = sekarang.time()\n",
    "\n",
    "print(\"Hari : \", tanggal.day)\n",
    "print('Bulan : ', tanggal.month)\n",
    "print('Tahun : ', tanggal.year)\n",
    "print('Jam : ', waktu.hour)\n",
    "print('Menit : ', waktu.minute)\n",
    "print('Detik : ', waktu.second)\n",
    "\n",
    "time.sleep(5)\n",
    "\n",
    "sekarang2 = datetime.datetime.now()\n",
    "\n",
    "delta = sekarang2 - sekarang\n",
    "\n",
    "print('selisih detik : ', delta.total_seconds())\n"
   ]
  },
  {
   "cell_type": "code",
   "execution_count": 7,
   "metadata": {},
   "outputs": [
    {
     "output_type": "stream",
     "name": "stdout",
     "text": [
      "Berhitung: 1\n",
      "Berhitung: 2\n",
      "Berhitung: 3\n",
      "Berhitung: 4\n",
      "Berhitung: 5\n",
      "Berhitung: 6\n",
      "Berhitung: 7\n",
      "Berhitung: 8\n",
      "Berhitung: 9\n",
      "Berhitung: 10\n"
     ]
    }
   ],
   "source": [
    "# Program untuk menghitung waktu mundur\n",
    "import time\n",
    "\n",
    "for i in range(10):\n",
    "    time.sleep(0.5)\n",
    "    print(\"Berhitung: \" + str(i + 1))\n"
   ]
  },
  {
   "cell_type": "code",
   "execution_count": 8,
   "metadata": {},
   "outputs": [
    {
     "output_type": "stream",
     "name": "stdout",
     "text": [
      "Apakah anda yakin akan meluncurkan roket?\n",
      "\n",
      "10\n",
      "9\n",
      "8\n",
      "7\n",
      "6\n",
      "5\n",
      "4\n",
      "3\n",
      "2\n",
      "1\n",
      "Buuzzzzssss!!!!\n",
      "Roket meluncur!!!\n"
     ]
    }
   ],
   "source": [
    "# Program untuk menghitung mundue (2) dengan Perlambatan 0.5 detik\n",
    "\n",
    "import time\n",
    "\n",
    "print(\"Apakah anda yakin akan meluncurkan roket?\\n\")\n",
    "input(\"Tekan [Enter] untuk memulai…\")\n",
    "\n",
    "for i in range(10, 0, -1):\n",
    "    time.sleep(1)\n",
    "    print(i)\n",
    "\n",
    "print(\"Buuzzzzssss!!!!\")\n",
    "print(\"Roket meluncur!!!\")\n"
   ]
  },
  {
   "cell_type": "code",
   "execution_count": null,
   "metadata": {},
   "outputs": [],
   "source": []
  }
 ]
}