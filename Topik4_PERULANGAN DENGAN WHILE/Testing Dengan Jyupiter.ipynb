{
 "metadata": {
  "language_info": {
   "codemirror_mode": {
    "name": "ipython",
    "version": 3
   },
   "file_extension": ".py",
   "mimetype": "text/x-python",
   "name": "python",
   "nbconvert_exporter": "python",
   "pygments_lexer": "ipython3",
   "version": "3.9.2"
  },
  "orig_nbformat": 2,
  "kernelspec": {
   "name": "python392jvsc74a57bd063fd5069d213b44bf678585dea6b12cceca9941eaf7f819626cde1f2670de90d",
   "display_name": "Python 3.9.2 64-bit"
  },
  "metadata": {
   "interpreter": {
    "hash": "63fd5069d213b44bf678585dea6b12cceca9941eaf7f819626cde1f2670de90d"
   }
  }
 },
 "nbformat": 4,
 "nbformat_minor": 2,
 "cells": [
  {
   "cell_type": "code",
   "execution_count": 1,
   "metadata": {},
   "outputs": [
    {
     "output_type": "stream",
     "name": "stdout",
     "text": [
      "Sistem Informasi  \nistem Informasi  \nstem Informasi  \ntem Informasi  \nem Informasi  \nm Informasi  \n Informasi  \nInformasi  \nnformasi  \nformasi  \normasi  \nrmasi  \nmasi  \nasi  \nsi  \ni  \n"
     ]
    }
   ],
   "source": [
    "x = 'Sistem Informasi'\n",
    "\n",
    "while x:\n",
    "    print(x, ' ')\n",
    "    x = x[1:]"
   ]
  },
  {
   "cell_type": "code",
   "execution_count": 2,
   "metadata": {},
   "outputs": [
    {
     "output_type": "stream",
     "name": "stdout",
     "text": [
      "0\n1\n2\n3\n4\n5\n6\n7\n8\n9\n"
     ]
    }
   ],
   "source": [
    "a = 0\n",
    "b = 10\n",
    "\n",
    "while a < b:\n",
    "    print(a)\n",
    "    a = a+1"
   ]
  },
  {
   "cell_type": "code",
   "execution_count": 1,
   "metadata": {},
   "outputs": [
    {
     "output_type": "stream",
     "name": "stdout",
     "text": [
      "********** \n********* \n******** \n******* \n****** \n***** \n**** \n*** \n** \n* \n"
     ]
    }
   ],
   "source": [
    "x = '**********'\n",
    "\n",
    "while x:\n",
    "    print(x + ' ')\n",
    "    x = x[1:]"
   ]
  },
  {
   "cell_type": "code",
   "execution_count": 2,
   "metadata": {},
   "outputs": [
    {
     "output_type": "stream",
     "name": "stdout",
     "text": [
      "Deret N Bilangan Ganjil\n",
      "--------------------------------\n",
      "1 3 5 7 \n"
     ]
    }
   ],
   "source": [
    "print('Deret N Bilangan Ganjil')\n",
    "print('--------------------------------')\n",
    "\n",
    "n = int(input('N = '))\n",
    "hitungan = 1\n",
    "\n",
    "while hitungan <= n:\n",
    "    print(2 * hitungan - 1, end=' ')\n",
    "    hitungan = hitungan + 1\n",
    "\n",
    "print()"
   ]
  },
  {
   "cell_type": "code",
   "execution_count": 3,
   "metadata": {},
   "outputs": [
    {
     "output_type": "stream",
     "name": "stdout",
     "text": [
      "Jumlah Total =  10\nRata-rata =  2.5\n"
     ]
    }
   ],
   "source": [
    "# menggunakan sentinel untuk mengakhiri penginputan data\n",
    "\n",
    "cacah = 0\n",
    "total = 0\n",
    "data = int(input('Masukkan data. (-1 untuk SELESAI) : '))\n",
    "\n",
    "while data != -1:\n",
    "    cacah += 1\n",
    "    total += data\n",
    "    data = int(input('Masukkan data. (-1 untuk SELESAI) : '))\n",
    "\n",
    "# Menghitung rata-rata\n",
    "jumlah_total = total\n",
    "rerata = total / cacah\n",
    "\n",
    "print('Jumlah Total = ', jumlah_total)\n",
    "print('Rata-rata = ', rerata)"
   ]
  },
  {
   "cell_type": "code",
   "execution_count": 4,
   "metadata": {},
   "outputs": [
    {
     "output_type": "stream",
     "name": "stdout",
     "text": [
      "Sisa saldo =  630000\n"
     ]
    }
   ],
   "source": [
    "awal = int(input('Masukkan saldo awal\\t: '))\n",
    "sisa = awal  # Bila tidak ada pengeluaran\n",
    "\n",
    "while (True):\n",
    "    pengeluaran = int(\n",
    "        input('Masukkan pengeluaran hari ini (-1 untuk keluar) : '))\n",
    "\n",
    "    if pengeluaran == -1:  # untuk berhenti\n",
    "        print('Sisa saldo = ', sisa)  # sisa bila diberhentikan\n",
    "        break\n",
    "    sisa = sisa - pengeluaran\n",
    "    if sisa < 0:\n",
    "        print('Saldo tidak cukup')\n",
    "        print('Sisa saldo ', sisa + pengeluaran)\n",
    "        break\n"
   ]
  },
  {
   "cell_type": "code",
   "execution_count": 1,
   "metadata": {},
   "outputs": [
    {
     "output_type": "stream",
     "name": "stdout",
     "text": [
      "Masukkan Deret\n",
      "--------------------------------\n",
      "1 3 5 7 \n",
      "Jumlah Total :  16\n"
     ]
    }
   ],
   "source": [
    "# Tugas Mandiri Membuat deret aritmatik interval 2 yang diawali dari angka 1. untuk akhir deret silahkan ditentukan sendiri. Hitung juga totalnya. Contoh : 1 3 5 7 dst, Jumlah Total =\n",
    "\n",
    "print('Masukkan Deret')\n",
    "print('--------------------------------')\n",
    "\n",
    "n = int(input('N = '))\n",
    "hitungan = 1\n",
    "total = 0\n",
    "\n",
    "while hitungan <= n:\n",
    "    print(2 * hitungan - 1, end=' ')\n",
    "    hitungan = hitungan + 1\n",
    "    total += hitungan * 2 - 3\n",
    "\n",
    "print()\n",
    "print('Jumlah Total : ', total)"
   ]
  },
  {
   "cell_type": "code",
   "execution_count": null,
   "metadata": {},
   "outputs": [],
   "source": []
  }
 ]
}