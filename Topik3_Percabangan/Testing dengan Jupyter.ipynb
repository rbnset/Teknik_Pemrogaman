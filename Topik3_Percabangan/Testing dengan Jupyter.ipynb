{
 "metadata": {
  "language_info": {
   "codemirror_mode": {
    "name": "ipython",
    "version": 3
   },
   "file_extension": ".py",
   "mimetype": "text/x-python",
   "name": "python",
   "nbconvert_exporter": "python",
   "pygments_lexer": "ipython3",
   "version": "3.9.2"
  },
  "orig_nbformat": 2,
  "kernelspec": {
   "name": "python392jvsc74a57bd063fd5069d213b44bf678585dea6b12cceca9941eaf7f819626cde1f2670de90d",
   "display_name": "Python 3.9.2 64-bit"
  },
  "metadata": {
   "interpreter": {
    "hash": "63fd5069d213b44bf678585dea6b12cceca9941eaf7f819626cde1f2670de90d"
   }
  }
 },
 "nbformat": 4,
 "nbformat_minor": 2,
 "cells": [
  {
   "cell_type": "code",
   "execution_count": 2,
   "metadata": {},
   "outputs": [
    {
     "output_type": "stream",
     "name": "stdout",
     "text": [
      "Penentuan Bilangan Genap atau Gannjil\n",
      "-------------------------------------\n",
      "Bilangan 3 merupakan bilangan ganjil\n"
     ]
    }
   ],
   "source": [
    "# Penentuan Bialngan Genap dan Ganjil\n",
    "print('Penentuan Bilangan Genap atau Gannjil')\n",
    "print('-------------------------------------')\n",
    "bilangan = int(input('Bilangan : '))\n",
    "\n",
    "# Penentuan bilangan ganjil atau genap\n",
    "katagori = 'bilangan ganjil'\n",
    "if bilangan % 2 == 0:\n",
    "    katagori = 'bilangan genap'\n",
    "\n",
    "# Tampilkan hasil\n",
    "print('Bilangan', bilangan, 'merupakan', katagori)"
   ]
  },
  {
   "cell_type": "code",
   "execution_count": 3,
   "metadata": {},
   "outputs": [
    {
     "output_type": "stream",
     "name": "stdout",
     "text": [
      "Penentuan Diskon Belanja\n",
      "------------------------\n",
      "\n",
      "Pembelian  =  400000\n",
      "Diskon     =  20000.0\n",
      "Pembayaran =  380000.0\n"
     ]
    }
   ],
   "source": [
    "# Penentuan Diskon\n",
    "print('Penentuan Diskon Belanja')\n",
    "print('------------------------')\n",
    "\n",
    "besarPembelian = int(input('Nilai Nominal Pembelian : '))\n",
    "\n",
    "# Penentuan Diskon\n",
    "diskon = 0\n",
    "if besarPembelian >= 200000:\n",
    "    diskon = 0.05 * besarPembelian\n",
    "\n",
    "besarPembayaran = besarPembelian - diskon\n",
    "\n",
    "# Tampilkan Hasil\n",
    "print()\n",
    "print('Pembelian  = ', besarPembelian)\n",
    "print('Diskon     = ', diskon)\n",
    "print('Pembayaran = ', besarPembayaran)\n"
   ]
  },
  {
   "cell_type": "code",
   "execution_count": 4,
   "metadata": {},
   "outputs": [
    {
     "output_type": "stream",
     "name": "stdout",
     "text": [
      "Penentuan Diskon Belanja\n",
      "------------------------\n",
      "\n",
      "Pembelian  =  500000\n",
      "Diskon     =  25000.0\n",
      "Pembayaran =  475000.0\n"
     ]
    }
   ],
   "source": [
    "# Penentuan Diskon dengan IF ELSE\n",
    "print('Penentuan Diskon Belanja')\n",
    "print('------------------------')\n",
    "\n",
    "besarPembelian = int(input('Nilai Nominal Pembelian : '))\n",
    "\n",
    "# Penentuan Diskon\n",
    "diskon = 0\n",
    "if besarPembelian >= 200000:\n",
    "    diskon = 0.05 * besarPembelian\n",
    "else:\n",
    "    diskon = 0\n",
    "\n",
    "besarPembayaran = besarPembelian - diskon\n",
    "\n",
    "# Tampilkan Hasil\n",
    "print()\n",
    "print('Pembelian  = ', besarPembelian)\n",
    "print('Diskon     = ', diskon)\n",
    "print('Pembayaran = ', besarPembayaran)"
   ]
  },
  {
   "cell_type": "code",
   "execution_count": 5,
   "metadata": {},
   "outputs": [
    {
     "output_type": "stream",
     "name": "stdout",
     "text": [
      "Meminjam buku selama  4 hari dikenakan biaya\n\nTerima kasih. Anda sudah meminjam Buku Kami\n"
     ]
    }
   ],
   "source": [
    "# Penggunaan IF ELSE\n",
    "\n",
    "lama_pinjam = int(input('Pinjaman buku beberpa hari? '))\n",
    "\n",
    "if lama_pinjam >= 3:\n",
    "    print('Meminjam buku selama ', lama_pinjam, 'hari dikenakan biaya')\n",
    "else:\n",
    "    print('Meminjam buku selama ', lama_pinjam, 'GRATIS')\n",
    "print()\n",
    "print('Terima kasih. Anda sudah meminjam Buku Kami')"
   ]
  },
  {
   "cell_type": "code",
   "execution_count": 6,
   "metadata": {},
   "outputs": [
    {
     "output_type": "stream",
     "name": "stdout",
     "text": [
      "Pertahankan\n"
     ]
    }
   ],
   "source": [
    "nilai = input('Nilai Anda ? :')\n",
    "\n",
    "if nilai == 'A':\n",
    "    print('Pertahankan')\n",
    "elif nilai == 'B':\n",
    "    print('Harus lebih baik lagi')\n",
    "elif nilai == 'C':\n",
    "    print('Perbanyak belajar')\n",
    "elif nilai == 'D':\n",
    "    print('Jangan keseringan main')\n",
    "elif nilai == 'E':\n",
    "    print('Kebanyakan bolos...')\n",
    "else:\n",
    "    print('Maaf, format nilai tidak sesuai')"
   ]
  },
  {
   "cell_type": "code",
   "execution_count": 7,
   "metadata": {},
   "outputs": [
    {
     "output_type": "stream",
     "name": "stdout",
     "text": [
      "Nilai :  98\nPertahankan\n"
     ]
    }
   ],
   "source": [
    "nilai = int(input('Nilai Anda ? :'))\n",
    "print('Nilai : ', nilai)\n",
    "\n",
    "if nilai >= 90:\n",
    "    print('Pertahankan')\n",
    "elif (nilai >= 80) and (nilai < 90):\n",
    "    print('Harus lebih baik lagi')\n",
    "elif (nilai >= 60) and (nilai < 80):\n",
    "    print('perbanyak belajar')\n",
    "elif (nilai >= 40) and (nilai < 60):\n",
    "    print('Jangan keseringan main')\n",
    "elif nilai < 40:\n",
    "    print('Kebanyakan bolos...')\n",
    "else:\n",
    "    print('Maaf, format nilai tidak sesuai')"
   ]
  },
  {
   "cell_type": "code",
   "execution_count": 1,
   "metadata": {},
   "outputs": [
    {
     "output_type": "stream",
     "name": "stdout",
     "text": [
      "Angka :  98\nAngka 98 adalah Bilangan Positif\n"
     ]
    }
   ],
   "source": [
    "angka = int(input('Masukkan Angka : '))\n",
    "print('Angka : ', angka)\n",
    "\n",
    "if angka > 0:\n",
    "    print('Angka', angka, 'adalah Bilangan Positif')\n",
    "elif angka < 0:\n",
    "    print('Angka', angka, 'adalah Bilangan Negatif')\n",
    "else:\n",
    "    print('Angka', angka, 'adalah Bilangan Nol')\n"
   ]
  },
  {
   "cell_type": "code",
   "execution_count": 2,
   "metadata": {},
   "outputs": [
    {
     "output_type": "stream",
     "name": "stdout",
     "text": [
      "Nilai Tugas :  98\nNilai Praktikum :  100\nNilai Tugas :  98\nNilai UAS :  100\nNilai Gabungan Anda adalah 99.0\nNilai A\n"
     ]
    }
   ],
   "source": [
    "# Input Nilai\n",
    "Tugas = int(input('Masukkan Nilai Tugas : '))\n",
    "Praktikum = int(input('Masukkan Nilai Praktikum : '))\n",
    "UTS = int(input('Masukkan Nilai UTS : '))\n",
    "UAS = int(input('Masukkan Nilai UAS : '))\n",
    "\n",
    "print('Nilai Tugas : ', Tugas)\n",
    "print('Nilai Praktikum : ', Praktikum)\n",
    "print('Nilai Tugas : ', UTS)\n",
    "print('Nilai UAS : ', UAS)\n",
    "\n",
    "# Komponen Nilai\n",
    "NilaiGabunggan = 0.2 * Tugas + 0.15 * Praktikum + 0.3 * UTS + 0.35 * UAS\n",
    "print('Nilai Gabungan Anda adalah', NilaiGabunggan)\n",
    "\n",
    "# Konversi Nilai\n",
    "if (NilaiGabunggan > 80) and (NilaiGabunggan <= 100):\n",
    "    print('Nilai A')\n",
    "elif (NilaiGabunggan > 66) and (NilaiGabunggan <= 80):\n",
    "    print('Nilai B')\n",
    "elif (NilaiGabunggan > 56) and (NilaiGabunggan <= 66):\n",
    "    print('Nilai C')\n",
    "elif (NilaiGabunggan > 46) and (NilaiGabunggan <= 56):\n",
    "    print('Nilai D')\n",
    "else:\n",
    "    print('Nilai E')"
   ]
  },
  {
   "cell_type": "code",
   "execution_count": null,
   "metadata": {},
   "outputs": [],
   "source": []
  }
 ]
}