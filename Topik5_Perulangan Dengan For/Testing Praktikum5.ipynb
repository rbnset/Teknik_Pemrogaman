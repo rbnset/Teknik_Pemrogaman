{
 "metadata": {
  "language_info": {
   "codemirror_mode": {
    "name": "ipython",
    "version": 3
   },
   "file_extension": ".py",
   "mimetype": "text/x-python",
   "name": "python",
   "nbconvert_exporter": "python",
   "pygments_lexer": "ipython3",
   "version": "3.9.2"
  },
  "orig_nbformat": 2,
  "kernelspec": {
   "name": "python392jvsc74a57bd063fd5069d213b44bf678585dea6b12cceca9941eaf7f819626cde1f2670de90d",
   "display_name": "Python 3.9.2 64-bit"
  },
  "metadata": {
   "interpreter": {
    "hash": "63fd5069d213b44bf678585dea6b12cceca9941eaf7f819626cde1f2670de90d"
   }
  }
 },
 "nbformat": 4,
 "nbformat_minor": 2,
 "cells": [
  {
   "cell_type": "code",
   "execution_count": 1,
   "metadata": {},
   "outputs": [
    {
     "output_type": "stream",
     "name": "stdout",
     "text": [
      "Deret N bilangan ganjil\n",
      "-----------------------\n",
      "1 3 5 7 9 11 \n"
     ]
    }
   ],
   "source": [
    "# penyajian deret n bilagnan ganjil\n",
    "# mengguanakn for ver 1\n",
    "\n",
    "print('Deret N bilangan ganjil')\n",
    "print('-----------------------')\n",
    "n = int(input('N = '))\n",
    "for hitungan in range(1, n+1):\n",
    "    print(2*hitungan-1, end=' ')\n",
    "print()"
   ]
  },
  {
   "cell_type": "code",
   "execution_count": 2,
   "metadata": {},
   "outputs": [
    {
     "output_type": "stream",
     "name": "stdout",
     "text": [
      "Deret N bilangan ganjil\n",
      "-----------------------\n",
      "1 3 5 7 9 \n"
     ]
    }
   ],
   "source": [
    "# Penyajian deret n bilangan ganjil\n",
    "# mengguanakn for ver 2\n",
    "\n",
    "print('Deret N bilangan ganjil')\n",
    "print('-----------------------')\n",
    "n = int(input('N= '))\n",
    "for hitungan in range(1, 2*n, 2):\n",
    "    print(hitungan, end=' ')\n",
    "print()\n"
   ]
  },
  {
   "cell_type": "code",
   "execution_count": 3,
   "metadata": {},
   "outputs": [
    {
     "output_type": "stream",
     "name": "stdout",
     "text": [
      "1\n2\n3\n4\n"
     ]
    }
   ],
   "source": [
    "# contoh break\n",
    "# pada for\n",
    "\n",
    "for bilangan in range(1, 9):\n",
    "    if bilangan == 5:\n",
    "        break\n",
    "    print(bilangan)\n",
    "else:\n",
    "    print('*** Akhir For')\n",
    "    print('---- Selesai ----')"
   ]
  },
  {
   "cell_type": "code",
   "execution_count": 4,
   "metadata": {},
   "outputs": [
    {
     "output_type": "stream",
     "name": "stdout",
     "text": [
      "1\n2\n3\n4\nContinue dijalankan\n6\n7\n8\n*** Akhir For\n---- Selesai ----\n"
     ]
    }
   ],
   "source": [
    "# contoh continue\n",
    "# pada for\n",
    "\n",
    "for bilangan in range(1, 9):\n",
    "    if bilangan == 5:\n",
    "        print('Continue dijalankan')\n",
    "        continue\n",
    "    print(bilangan)\n",
    "else:\n",
    "    print('*** Akhir For')\n",
    "print('---- Selesai ----')\n"
   ]
  },
  {
   "cell_type": "code",
   "execution_count": 5,
   "metadata": {},
   "outputs": [
    {
     "output_type": "stream",
     "name": "stdout",
     "text": [
      "Pembuatan Piramida Terbalik\n",
      "---------------------------\n",
      "* * * * * * * * * * * \n",
      "  * * * * * * * * * \n",
      "    * * * * * * * \n",
      "      * * * * * \n",
      "        * * * \n",
      "          * \n"
     ]
    }
   ],
   "source": [
    "# Membuat Piramida Terbalik\n",
    "print('Pembuatan Piramida Terbalik')\n",
    "print('---------------------------')\n",
    "\n",
    "n = int(input('n = '))\n",
    "\n",
    "for baris in range(1, n+1):\n",
    "    # Tampilkan karakter spasi\n",
    "    for kolom in range(1, baris):\n",
    "        print(' ', end=' ')\n",
    "    # Tampilkan bintang (*)\n",
    "    for indeks in range(1, 2*(n-baris)+2):\n",
    "        print('*', end=' ')  # simbol *\n",
    "    print()  # pindah baris"
   ]
  },
  {
   "cell_type": "code",
   "execution_count": 6,
   "metadata": {},
   "outputs": [
    {
     "output_type": "stream",
     "name": "stdout",
     "text": [
      "Deret Kuadrat\n",
      "-------------\n",
      "1\n",
      "4\n",
      "9\n",
      "16\n"
     ]
    }
   ],
   "source": [
    "print('Deret Kuadrat')\n",
    "print('-------------')\n",
    "\n",
    "n = int(input('N = '))\n",
    "for suku in range(1, n+1):\n",
    "    print(suku*suku)\n"
   ]
  },
  {
   "cell_type": "code",
   "execution_count": 7,
   "metadata": {},
   "outputs": [
    {
     "output_type": "stream",
     "name": "stdout",
     "text": [
      "Tabel Perkalian\n",
      "---------------\n",
      "    1   2   3   4   5   6   7   8   9  10  11  12 \n",
      "  1   1   2   3   4   5   6   7   8   9  10  11  12 \n",
      "  2       4   6   8  10  12  14  16  18  20  22  24 \n",
      "  3           9  12  15  18  21  24  27  30  33  36 \n",
      "  4              16  20  24  28  32  36  40  44  48 \n",
      "  5                  25  30  35  40  45  50  55  60 \n",
      "  6                      36  42  48  54  60  66  72 \n",
      "  7                          49  56  63  70  77  84 \n",
      "  8                              64  72  80  88  96 \n",
      "  9                                  81  90  99 108 \n",
      " 10                                     100 110 120 \n",
      " 11                                         121 132 \n",
      " 12                                             144 \n"
     ]
    }
   ],
   "source": [
    "# Tabel perkalian\n",
    "print('Tabel Perkalian')\n",
    "print('---------------')\n",
    "n = int(input('N = '))\n",
    "print('  ', end='')\n",
    "\n",
    "for kolom in range(1, n+1):\n",
    "    print('%3d ' % kolom, end='')\n",
    "\n",
    "print()\n",
    "\n",
    "for baris in range(1, n + 1):\n",
    "    print('%3d ' % baris, end='')\n",
    "\n",
    "    for kolom in range(1, baris):\n",
    "        print('%4s' % ' ', end='')\n",
    "\n",
    "    for kolom in range(baris, n + 1):\n",
    "        print('%3d ' % (baris * kolom), end='')\n",
    "\n",
    "    print()\n"
   ]
  },
  {
   "cell_type": "code",
   "execution_count": 1,
   "metadata": {},
   "outputs": [
    {
     "output_type": "stream",
     "name": "stdout",
     "text": [
      "Pembuatan Piramida\n",
      "---------------------------\n",
      "              *  \n",
      "            *   *  \n",
      "          *   *   *  \n",
      "        *   *   *   *  \n",
      "      *   *   *   *   *  \n",
      "    *   *   *   *   *   *  \n",
      "  *   *   *   *   *   *   *  \n"
     ]
    }
   ],
   "source": [
    "# Membuat Piramida\n",
    "print('Pembuatan Piramida')\n",
    "print('---------------------------')\n",
    "\n",
    "n = int(input('n = '))\n",
    "\n",
    "for baris in range(1, n+1):\n",
    "    # Tampilkan karakter spasi\n",
    "    for kolom in range(1, 2*(n-baris)+2):\n",
    "        print(' ', end='')\n",
    "    # Tampilkan bintang (*)\n",
    "    for indeks in range(1, baris+1):\n",
    "        print(' * ', end=' ')  # simbol *\n",
    "    print()  # pindah baris\n",
    "\n"
   ]
  },
  {
   "cell_type": "code",
   "execution_count": 2,
   "metadata": {},
   "outputs": [
    {
     "output_type": "stream",
     "name": "stdout",
     "text": [
      "123456\n23456\n3456\n456\n5\n"
     ]
    }
   ],
   "source": [
    "n = 5\n",
    "\n",
    "for col in range(1, n+2):\n",
    "    print(col, end='')\n",
    "print()\n",
    "for row in range(2, n+1):\n",
    "    print(row, end='')\n",
    "\n",
    "    for col in range(row, n+1):\n",
    "        if row >= n:\n",
    "            break\n",
    "        print((col+1), end='')\n",
    "    print()\n"
   ]
  },
  {
   "cell_type": "code",
   "execution_count": 3,
   "metadata": {},
   "outputs": [
    {
     "output_type": "stream",
     "name": "stdout",
     "text": [
      "Program menghitung total angka dari 1 s.d. 10\n--------------------------------------------\n1\n2\n3\n4\n5\n6\n7\n8\n9\n10\n\nTotal Angka =  55\n"
     ]
    }
   ],
   "source": [
    "# Program untuk mencari total angka dari 1 s.d 10\n",
    "\n",
    "print('Program menghitung total angka dari 1 s.d. 10')\n",
    "print('--------------------------------------------')\n",
    "\n",
    "total = 0\n",
    "for i in range(1, 11):\n",
    "    total = total+i\n",
    "    print(i)\n",
    "print()\n",
    "print('Total Angka = ', total)\n"
   ]
  },
  {
   "cell_type": "code",
   "execution_count": 4,
   "metadata": {},
   "outputs": [
    {
     "output_type": "stream",
     "name": "stdout",
     "text": [
      "Program penampil angka genap dari 2 s.d 20\n------------------------------------------\n2\n4\n6\n8\n10\n12\n14\n16\n18\n20\n"
     ]
    }
   ],
   "source": [
    "# Program untuk menampilkan angka genap dari 2 s.d 20\n",
    "\n",
    "print('Program penampil angka genap dari 2 s.d 20')\n",
    "print('------------------------------------------')\n",
    "\n",
    "for i in range(2, 21, 2):\n",
    "    print(i)\n"
   ]
  },
  {
   "cell_type": "code",
   "execution_count": null,
   "metadata": {},
   "outputs": [],
   "source": []
  }
 ]
}