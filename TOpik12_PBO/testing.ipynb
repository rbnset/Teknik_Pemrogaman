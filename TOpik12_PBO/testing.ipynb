{
 "metadata": {
  "language_info": {
   "codemirror_mode": {
    "name": "ipython",
    "version": 3
   },
   "file_extension": ".py",
   "mimetype": "text/x-python",
   "name": "python",
   "nbconvert_exporter": "python",
   "pygments_lexer": "ipython3",
   "version": "3.9.2"
  },
  "orig_nbformat": 4,
  "kernelspec": {
   "name": "python3",
   "display_name": "Python 3.9.2 64-bit"
  },
  "interpreter": {
   "hash": "63fd5069d213b44bf678585dea6b12cceca9941eaf7f819626cde1f2670de90d"
  }
 },
 "nbformat": 4,
 "nbformat_minor": 2,
 "cells": [
  {
   "cell_type": "code",
   "execution_count": 1,
   "metadata": {},
   "outputs": [
    {
     "output_type": "stream",
     "name": "stdout",
     "text": [
      "Ini adalah Method Ayah\nIni adalah Method Anak\nIni adalah Method Ayah\n"
     ]
    }
   ],
   "source": [
    "# Berikut contoh program Turunan (Inheritance) 1 :\n",
    "\n",
    "class Ayah:\n",
    "    def methodAyah(self):\n",
    "        print('Ini adalah Method Ayah')\n",
    "\n",
    "\n",
    "class Anak(Ayah):\n",
    "    def methodAnak(self):\n",
    "        print('Ini adalah Method Anak')\n",
    "\n",
    "\n",
    "# Deklarasi objek kelas Ayah\n",
    "p = Ayah()\n",
    "p.methodAyah()\n",
    "\n",
    "# Deklarasi objek kelas Aanak\n",
    "c = Anak()\n",
    "c.methodAnak()\n",
    "c.methodAyah()\n"
   ]
  },
  {
   "cell_type": "code",
   "execution_count": 2,
   "metadata": {},
   "outputs": [
    {
     "output_type": "stream",
     "name": "stdout",
     "text": [
      "\nNama :  Wiragan\nTinggi :  170 cm\nBerat :  68 kg\nBerjalan ke depan\nBerlari dengan cepat\n\nNama :  Mustofa\nTinggi :  140 cm\nBerat :  32 kg\nBerjalan ke depan\nBerlari dengan cepat\n"
     ]
    }
   ],
   "source": [
    "#  Contoh Program Pewarisan 2 :\n",
    "\n",
    "class Bapak(object):\n",
    "    def __init__(self, nama, tinggi, berat):\n",
    "        self.nama = nama\n",
    "        self.tinggi = tinggi\n",
    "        self.berat = berat\n",
    "\n",
    "    def berjalan(self):\n",
    "        print('Berjalan ke depan')\n",
    "\n",
    "    def berlari(self):\n",
    "        print('Berlari dengan cepat')\n",
    "\n",
    "# Class Anak turunan dari class Bapak\n",
    "\n",
    "\n",
    "class Anak(Bapak):\n",
    "    pass\n",
    "\n",
    "\n",
    "b = Bapak('Wiragan', 170, 68)\n",
    "print()\n",
    "\n",
    "print('Nama : ', b.nama)\n",
    "print('Tinggi : ', b.tinggi, 'cm')\n",
    "print('Berat : ', b.berat, 'kg')\n",
    "b.berjalan()\n",
    "b.berlari()\n",
    "\n",
    "# Objek dari class Anak memiliki seluruh yang dimiliki class Bapak\n",
    "a = Anak('Mustofa', 140, 32)\n",
    "print()\n",
    "print('Nama : ', a.nama)\n",
    "print('Tinggi : ', a.tinggi, 'cm')\n",
    "print('Berat : ', a.berat, 'kg')\n",
    "a.berjalan()\n",
    "a.berlari()\n"
   ]
  },
  {
   "cell_type": "code",
   "execution_count": 3,
   "metadata": {},
   "outputs": [
    {
     "output_type": "stream",
     "name": "stdout",
     "text": [
      "nama :  irawan \nnim :  08122671 \nalamat :  jakarta barat\nnama :  riko \nnim :  08126672 \nalamat :  jakarta selatan\n"
     ]
    }
   ],
   "source": [
    "# Contoh Program Pewarisan 3 :\n",
    "\n",
    "class Mahasiswa():\n",
    "    def __init__(self, nama, nim, alamat):\n",
    "        self.nama = nama\n",
    "        self.nim = nim\n",
    "        self.alamat = alamat\n",
    "\n",
    "    def cek_data_mahasiswa(self):\n",
    "        print('nama : ', self.nama, '\\nnim : ',\n",
    "              self.nim, '\\nalamat : ', self.alamat)\n",
    "\n",
    "\n",
    "mahasiswa1 = Mahasiswa('irawan', '08122671', 'jakarta barat')\n",
    "mahasiswa1.cek_data_mahasiswa()\n",
    "\n",
    "mahasiswa2 = Mahasiswa('riko', '08126672', 'jakarta selatan')\n",
    "mahasiswa2.cek_data_mahasiswa()\n"
   ]
  },
  {
   "cell_type": "code",
   "execution_count": 4,
   "metadata": {},
   "outputs": [
    {
     "output_type": "stream",
     "name": "stdout",
     "text": [
      "nama :  irawan \nnim :  08122671 \nalamat :  jakarta barat\nnama :  riko \nnim :  08126672 \nalamat :  jakarta selatan\n"
     ]
    }
   ],
   "source": [
    "# Contoh Program Pewarisan 3, namun dengan cara menurunkan data dari class pertama kepada yang kedua :\n",
    "\n",
    "class Mahasiswa():\n",
    "    def __init__(self, nama, nim, alamat):\n",
    "        self.nama = nama\n",
    "        self.nim = nim\n",
    "        self.alamat = alamat\n",
    "\n",
    "    def cek_data_mahasiswa(self):\n",
    "        print('nama : ', self.nama, '\\nnim : ',\n",
    "              self.nim, '\\nalamat : ', self.alamat)\n",
    "\n",
    "\n",
    "class Dosen(Mahasiswa):\n",
    "    pass\n",
    "\n",
    "\n",
    "mahasiswa1 = Mahasiswa('irawan', '08122671', 'jakarta barat')\n",
    "mahasiswa1.cek_data_mahasiswa()\n",
    "\n",
    "dosen = Dosen('riko', '08126672', 'jakarta selatan')\n",
    "dosen.cek_data_mahasiswa()\n"
   ]
  },
  {
   "cell_type": "code",
   "execution_count": 5,
   "metadata": {},
   "outputs": [
    {
     "output_type": "stream",
     "name": "stdout",
     "text": [
      "nama :  irawan \nnim :  08122671 \nalamat :  jakarta barat\nnama :  riko \nalamat :  jakarta selatan\n"
     ]
    }
   ],
   "source": [
    "# Contoh Program Pewarisan 3, namun dengan cara overrode :\n",
    "\n",
    "class Mahasiswa():\n",
    "    def __init__(self, nama, nim, alamat):\n",
    "        self.nama = nama\n",
    "        self.nim = nim\n",
    "        self.alamat = alamat\n",
    "\n",
    "    def cek_data_mahasiswa(self):\n",
    "        print('nama : ', self.nama, '\\nnim : ',\n",
    "              self.nim, '\\nalamat : ', self.alamat)\n",
    "\n",
    "\n",
    "class Dosen(Mahasiswa):\n",
    "    def cek_data_mahasiswa(self):\n",
    "        print('nama : ', self.nama, '\\nalamat : ', self.alamat)\n",
    "\n",
    "\n",
    "mahasiswa1 = Mahasiswa('irawan', '08122671', 'jakarta barat')\n",
    "mahasiswa1.cek_data_mahasiswa()\n",
    "\n",
    "dosen = Dosen('riko', '08126672', 'jakarta selatan')\n",
    "dosen.cek_data_mahasiswa()\n"
   ]
  },
  {
   "cell_type": "code",
   "execution_count": 6,
   "metadata": {},
   "outputs": [
    {
     "output_type": "stream",
     "name": "stdout",
     "text": [
      "Hi... saya method override di kelas induk\nHi... saya method override di kelas induk\n"
     ]
    }
   ],
   "source": [
    "# Method Overriding :\n",
    "\n",
    "class induk:\n",
    "    def cobaOverride(self):\n",
    "        print('Hi... saya method override di kelas induk')\n",
    "\n",
    "\n",
    "class turunan(induk):\n",
    "    def cobaOverride(self):\n",
    "        print('Hi... saya method override di kelas anak')\n",
    "\n",
    "\n",
    "# Deklarasi objek Kelas Induk\n",
    "objectInduk = induk()\n",
    "objectInduk.cobaOverride()\n",
    "\n",
    "# Deklarasi objek kelas anak\n",
    "objectAnak = turunan()\n",
    "induk.cobaOverride(objectAnak)\n"
   ]
  },
  {
   "cell_type": "code",
   "execution_count": null,
   "metadata": {},
   "outputs": [],
   "source": []
  }
 ]
}