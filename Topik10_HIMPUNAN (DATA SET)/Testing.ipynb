{
 "metadata": {
  "language_info": {
   "codemirror_mode": {
    "name": "ipython",
    "version": 3
   },
   "file_extension": ".py",
   "mimetype": "text/x-python",
   "name": "python",
   "nbconvert_exporter": "python",
   "pygments_lexer": "ipython3",
   "version": "3.9.2"
  },
  "orig_nbformat": 4,
  "kernelspec": {
   "name": "python3",
   "display_name": "Python 3.9.2 64-bit"
  },
  "interpreter": {
   "hash": "63fd5069d213b44bf678585dea6b12cceca9941eaf7f819626cde1f2670de90d"
  }
 },
 "nbformat": 4,
 "nbformat_minor": 2,
 "cells": [
  {
   "cell_type": "code",
   "execution_count": 1,
   "metadata": {},
   "outputs": [
    {
     "output_type": "stream",
     "name": "stdout",
     "text": [
      "{'Hijau', 'Biru', 'Merah'}\n"
     ]
    }
   ],
   "source": [
    "# Cara membuat himpunan dan  menampilkannya\n",
    "\n",
    "warna = {'Merah', 'Hijau', 'Biru'}\n",
    "print(warna)\n"
   ]
  },
  {
   "cell_type": "code",
   "execution_count": 2,
   "metadata": {},
   "outputs": [
    {
     "output_type": "stream",
     "name": "stdout",
     "text": [
      "4\n0\n"
     ]
    }
   ],
   "source": [
    "# Mendapatkan jumlah elemen pada himpunan\n",
    "\n",
    "peserta = {'Yahya', 'Yakub', 'Harun', 'Yusuf'}\n",
    "data = len(peserta)\n",
    "print(data)\n",
    "nomor = set()\n",
    "print(len(nomor))\n"
   ]
  },
  {
   "cell_type": "code",
   "execution_count": 3,
   "metadata": {},
   "outputs": [
    {
     "output_type": "stream",
     "name": "stdout",
     "text": [
      "Biru\nNila\nHijau\nJingga\nKuning\nUngu\nMerah\n"
     ]
    }
   ],
   "source": [
    "# Pengaksesan elemen pada himpunan\n",
    "\n",
    "himpunanWarna = {'Merah', 'Jingga', 'Kuning', 'Hijau', 'Biru', 'Nila', 'Ungu'}\n",
    "\n",
    "for warna in himpunanWarna:\n",
    "    print(warna)\n"
   ]
  },
  {
   "cell_type": "code",
   "execution_count": 4,
   "metadata": {},
   "outputs": [
    {
     "output_type": "stream",
     "name": "stdout",
     "text": [
      "{1, 2, 3, 4}\n{1, 2, 3, 4, 9}\n"
     ]
    }
   ],
   "source": [
    "# Pemuktahiran data pada himpunan\n",
    "\n",
    "h = {1, 2, 3, 4}\n",
    "print(h)\n",
    "h.update([1, 2, 3, 9, 4])\n",
    "print(h)\n"
   ]
  },
  {
   "cell_type": "code",
   "execution_count": 5,
   "metadata": {},
   "outputs": [
    {
     "output_type": "stream",
     "name": "stdout",
     "text": [
      "{'Yakub', 'Yahya', 'Yusuf', 'Isa'}\nset()\n"
     ]
    },
    {
     "output_type": "error",
     "ename": "NameError",
     "evalue": "name 'peserta' is not defined",
     "traceback": [
      "\u001b[1;31m---------------------------------------------------------------------------\u001b[0m",
      "\u001b[1;31mNameError\u001b[0m                                 Traceback (most recent call last)",
      "\u001b[1;32m<ipython-input-5-5dda2adb873d>\u001b[0m in \u001b[0;36m<module>\u001b[1;34m\u001b[0m\n\u001b[0;32m      7\u001b[0m \u001b[0mprint\u001b[0m\u001b[1;33m(\u001b[0m\u001b[0mpeserta\u001b[0m\u001b[1;33m)\u001b[0m\u001b[1;33m\u001b[0m\u001b[1;33m\u001b[0m\u001b[0m\n\u001b[0;32m      8\u001b[0m \u001b[1;32mdel\u001b[0m\u001b[1;33m(\u001b[0m\u001b[0mpeserta\u001b[0m\u001b[1;33m)\u001b[0m\u001b[1;33m\u001b[0m\u001b[1;33m\u001b[0m\u001b[0m\n\u001b[1;32m----> 9\u001b[1;33m \u001b[0mprint\u001b[0m\u001b[1;33m(\u001b[0m\u001b[0mpeserta\u001b[0m\u001b[1;33m)\u001b[0m\u001b[1;33m\u001b[0m\u001b[1;33m\u001b[0m\u001b[0m\n\u001b[0m",
      "\u001b[1;31mNameError\u001b[0m: name 'peserta' is not defined"
     ]
    }
   ],
   "source": [
    "# Penghapusan data pada himpunana\n",
    "\n",
    "peserta = {'Yahya', 'Yakub', 'Harun', 'Yusuf', 'Isa'}\n",
    "peserta.discard('Harun')\n",
    "print(peserta)\n",
    "peserta.clear()\n",
    "print(peserta)\n",
    "del(peserta)\n",
    "print(peserta)\n"
   ]
  },
  {
   "cell_type": "code",
   "execution_count": 6,
   "metadata": {},
   "outputs": [
    {
     "output_type": "stream",
     "name": "stdout",
     "text": [
      "{'Yakub', 'Harun', 'Ismail', 'Yahya', 'Yusuf', 'Isa'}\n{'Yakub', 'Harun', 'Ismail', 'Yahya', 'Yusuf', 'Isa'}\n"
     ]
    }
   ],
   "source": [
    "# Penambahan data pada himpunan\n",
    "\n",
    "peserta = {'Yahya', 'Yakub', 'Harun', 'Yusuf', 'Isa'}\n",
    "peserta.add('Ismail')\n",
    "print(peserta)\n",
    "peserta.add('Yusuf')\n",
    "print(peserta)\n"
   ]
  },
  {
   "cell_type": "code",
   "execution_count": 7,
   "metadata": {},
   "outputs": [
    {
     "output_type": "stream",
     "name": "stdout",
     "text": [
      "False\n"
     ]
    }
   ],
   "source": [
    "# Sub Himpunan\n",
    "\n",
    "paketA = {'apel', 'anggur'}\n",
    "paketB = {'anggur', 'kelengkeng', 'melon'}\n",
    "paket1 = (paketB.issubset(paketA))\n",
    "print(paket1)\n"
   ]
  },
  {
   "cell_type": "code",
   "execution_count": 8,
   "metadata": {},
   "outputs": [
    {
     "output_type": "stream",
     "name": "stdout",
     "text": [
      "{'Putih', 'Ungu', 'Merah', 'Hijau', 'Kuning', 'Biru', 'Hitam'}\n{'Putih', 'Ungu', 'Merah', 'Hijau', 'Kuning', 'Biru', 'Hitam'}\n{'Ungu', 'Merah', 'Biru', 'Hijau', 'Kuning', 'Hitam', 'Putih'}\n"
     ]
    }
   ],
   "source": [
    "setA = {'Hijau', 'Biru', 'Ungu', 'Merah'}\n",
    "setB = {'Merah', 'Kuning', 'Putih', 'Hijau', 'Hitam'}\n",
    "setC = setA | setB\n",
    "print(setC)\n",
    "setC = setA.union(setB)\n",
    "print(setC)\n",
    "setC = setB.union(setA)\n",
    "print(setC)\n"
   ]
  },
  {
   "cell_type": "code",
   "execution_count": 9,
   "metadata": {},
   "outputs": [
    {
     "output_type": "stream",
     "name": "stdout",
     "text": [
      "{'Hijau', 'Merah'}\n{'Hijau', 'Merah'}\n{'Hijau', 'Merah'}\n"
     ]
    }
   ],
   "source": [
    "setA = {'Hijau', 'Biru', 'Ungu', 'Merah'}\n",
    "setB = {'Merah', 'Kuning', 'Putih', 'Hijau', 'Hitam'}\n",
    "setC = setA & setB\n",
    "print(setC)\n",
    "setC = setB.intersection(setA)\n",
    "print(setC)\n",
    "setC = setA.intersection(setB)\n",
    "print(setC)\n"
   ]
  },
  {
   "cell_type": "code",
   "execution_count": 10,
   "metadata": {},
   "outputs": [
    {
     "output_type": "stream",
     "name": "stdout",
     "text": [
      "{'Biru', 'Ungu'}\n{'Biru', 'Ungu'}\n{'Kuning', 'Hitam', 'Putih'}\n{'Kuning', 'Hitam', 'Putih'}\n"
     ]
    }
   ],
   "source": [
    "setA = {'Hijau', 'Biru', 'Ungu', 'Merah'}\n",
    "setB = {'Merah', 'Kuning', 'Putih', 'Hijau', 'Hitam'}\n",
    "setC = setA - setB\n",
    "print(setC)\n",
    "setC = setA.difference(setB)\n",
    "print(setC)\n",
    "setC = setB - setA\n",
    "print(setC)\n",
    "setC = setB.difference(setA)\n",
    "print(setC)\n"
   ]
  },
  {
   "cell_type": "code",
   "execution_count": 11,
   "metadata": {},
   "outputs": [
    {
     "output_type": "stream",
     "name": "stdout",
     "text": [
      "{'Biru', 'Ungu', 'Kuning', 'Hitam', 'Putih'}\n{'Biru', 'Ungu', 'Kuning', 'Hitam', 'Putih'}\n{'Putih', 'Ungu', 'Kuning', 'Biru', 'Hitam'}\n"
     ]
    }
   ],
   "source": [
    "setA = {'Hijau', 'Biru', 'Ungu', 'Merah'}\n",
    "setB = {'Merah', 'Kuning', 'Putih', 'Hijau', 'Hitam'}\n",
    "setC = setA ^ setB\n",
    "print(setC)\n",
    "setC = setA.symmetric_difference(setB)\n",
    "print(setC)\n",
    "setC = setB.symmetric_difference(setA)\n",
    "print(setC)\n"
   ]
  },
  {
   "cell_type": "code",
   "execution_count": 12,
   "metadata": {},
   "outputs": [
    {
     "output_type": "stream",
     "name": "stdout",
     "text": [
      "{1, 2, 3}\n{1, 2, 3}\n{1, 2.0, (3, 4, 5), 'Python'}\n{1, 2, 3}\n"
     ]
    },
    {
     "output_type": "error",
     "ename": "TypeError",
     "evalue": "unhashable type: 'list'",
     "traceback": [
      "\u001b[1;31m---------------------------------------------------------------------------\u001b[0m",
      "\u001b[1;31mTypeError\u001b[0m                                 Traceback (most recent call last)",
      "\u001b[1;32m<ipython-input-12-a942edc57445>\u001b[0m in \u001b[0;36m<module>\u001b[1;34m\u001b[0m\n\u001b[0;32m     18\u001b[0m \u001b[1;31m# set tidak bisa berisi anggota list\u001b[0m\u001b[1;33m\u001b[0m\u001b[1;33m\u001b[0m\u001b[1;33m\u001b[0m\u001b[0m\n\u001b[0;32m     19\u001b[0m \u001b[1;31m# contoh berikut akan muncul error TypeError\u001b[0m\u001b[1;33m\u001b[0m\u001b[1;33m\u001b[0m\u001b[1;33m\u001b[0m\u001b[0m\n\u001b[1;32m---> 20\u001b[1;33m \u001b[0mmy_set\u001b[0m \u001b[1;33m=\u001b[0m \u001b[1;33m{\u001b[0m\u001b[1;36m1\u001b[0m\u001b[1;33m,\u001b[0m \u001b[1;36m2\u001b[0m\u001b[1;33m,\u001b[0m \u001b[1;33m[\u001b[0m\u001b[1;36m3\u001b[0m\u001b[1;33m,\u001b[0m \u001b[1;36m4\u001b[0m\u001b[1;33m,\u001b[0m \u001b[1;36m5\u001b[0m\u001b[1;33m]\u001b[0m\u001b[1;33m}\u001b[0m\u001b[1;33m\u001b[0m\u001b[1;33m\u001b[0m\u001b[0m\n\u001b[0m",
      "\u001b[1;31mTypeError\u001b[0m: unhashable type: 'list'"
     ]
    }
   ],
   "source": [
    "# set integer\n",
    "my_set = {1, 2, 3}\n",
    "print(my_set)\n",
    "\n",
    "# set dengan menggunakan fungsi set()\n",
    "my_set = set([1, 2, 3])\n",
    "print(my_set)\n",
    "\n",
    "# set data campuran\n",
    "my_set = {1, 2.0, \"Python\", (3, 4, 5)}\n",
    "print(my_set)\n",
    "\n",
    "# bila kita mengisi duplikasi, set akan menghilangkan salah satu\n",
    "# output: {1,2,3}\n",
    "my_set = {1, 2, 2, 3, 3, 3}\n",
    "print(my_set)\n",
    "\n",
    "# set tidak bisa berisi anggota list\n",
    "# contoh berikut akan muncul error TypeError\n",
    "my_set = {1, 2, [3, 4, 5]}\n"
   ]
  },
  {
   "cell_type": "code",
   "execution_count": 13,
   "metadata": {},
   "outputs": [
    {
     "output_type": "stream",
     "name": "stdout",
     "text": [
      "{1, 2, 3}\n{1, 2, 3, 4}\n{1, 2, 3, 4, 5, 6}\n"
     ]
    }
   ],
   "source": [
    "# membuat set baru\n",
    "my_set = {1, 2, 3}\n",
    "print(my_set)\n",
    "\n",
    "# bila kita hilangkan tanda # dari baris 9 akan muncul error TypeError\n",
    "# my_set[0]\n",
    "\n",
    "# menambah satu anggota\n",
    "# output: {1,2,3,4}\n",
    "my_set.add(4)\n",
    "print(my_set)\n",
    "\n",
    "# menambah beberapa anggota\n",
    "# set akan menghilangkan duplikasi\n",
    "# output: {1,2,3,4,5,6}\n",
    "my_set.update([3, 4, 5, 6])\n",
    "print(my_set)\n"
   ]
  },
  {
   "cell_type": "code",
   "execution_count": 14,
   "metadata": {},
   "outputs": [
    {
     "output_type": "stream",
     "name": "stdout",
     "text": [
      "{1, 2, 3, 4, 5}\n{1, 2, 3, 5}\n{1, 2, 3}\n"
     ]
    }
   ],
   "source": [
    "# membuat set baru\n",
    "my_set = {1, 2, 3, 4, 5}\n",
    "print(my_set)\n",
    "\n",
    "# menghapus 4 dengan discard\n",
    "# output: {1, 2, 3, 5}\n",
    "my_set.discard(4)\n",
    "print(my_set)\n",
    "\n",
    "# menghapus 5 dengan remove\n",
    "# output : {1, 2, 3}\n",
    "my_set.remove(5)\n",
    "print(my_set)\n",
    "\n",
    "# anggota yang mau dihapus tidak ada dalam set\n",
    "# discard tidak akan memunculkan error\n",
    "# output: {1, 2, 3}\n",
    "my_set.discard(6)\n"
   ]
  },
  {
   "cell_type": "code",
   "execution_count": 15,
   "metadata": {},
   "outputs": [
    {
     "output_type": "stream",
     "name": "stdout",
     "text": [
      "{1, 2, 3, 4, 5}\n{1, 2, 3, 5}\n{1, 2, 3}\n"
     ]
    }
   ],
   "source": [
    "# membuat set baru\n",
    "my_set = {1, 2, 3, 4, 5}\n",
    "print(my_set)\n",
    "\n",
    "# menghapus 4 dengan discard\n",
    "# output: {1, 2, 3, 5}\n",
    "my_set.discard(4)\n",
    "print(my_set)\n",
    "\n",
    "# menghapus 5 dengan remove\n",
    "# output : {1, 2, 3}\n",
    "my_set.remove(5)\n",
    "print(my_set)\n",
    "\n",
    "# anggota yang mau dihapus tidak ada dalam set\n",
    "# discard tidak akan memunculkan error\n",
    "# output: {1, 2, 3}\n",
    "my_set.discard(6)\n"
   ]
  },
  {
   "cell_type": "code",
   "execution_count": 16,
   "metadata": {},
   "outputs": [
    {
     "output_type": "stream",
     "name": "stdout",
     "text": [
      "{'e', 't', 'l', 'y', 'P', 'o', 'n', 'H', 'h'}\ne\nt\nset()\n"
     ]
    }
   ],
   "source": [
    "# membuat set baru\n",
    "# output: set berisi anggota yang unik\n",
    "my_set = set(\"HelloPython\")\n",
    "print(my_set)\n",
    "\n",
    "# pop anggota\n",
    "# output: anggota acak\n",
    "print(my_set.pop())\n",
    "\n",
    "# pop anggota lainnya\n",
    "# output: anggota acak\n",
    "print(my_set.pop())\n",
    "\n",
    "# mengosongkan set\n",
    "# output: set()\n",
    "my_set.clear()\n",
    "print(my_set)\n"
   ]
  },
  {
   "cell_type": "code",
   "execution_count": 17,
   "metadata": {},
   "outputs": [
    {
     "output_type": "stream",
     "name": "stdout",
     "text": [
      "{1, 2, 3, 4, 5, 6, 7, 8}\n"
     ]
    },
    {
     "output_type": "execute_result",
     "data": {
      "text/plain": [
       "{1, 2, 3, 4, 5, 6, 7, 8}"
      ]
     },
     "metadata": {},
     "execution_count": 17
    }
   ],
   "source": [
    "# Membuat set A and B\n",
    "A = {1, 2, 3, 4, 5}\n",
    "B = {4, 5, 6, 7, 8}\n",
    "\n",
    "# Gabungan menggunakan operator |\n",
    "# output: {1, 2, 3, 4, 5, 6, 7, 8}\n",
    "print(A | B)\n",
    "\n",
    "# Menggunakan fungsi union()\n",
    "# output: {1, 2, 3, 4, 5, 6, 7, 8}\n",
    "A.union(B)\n",
    "\n",
    "# output: {1, 2, 3, 4, 5, 6, 7, 8}\n",
    "B.union(A)\n"
   ]
  },
  {
   "cell_type": "code",
   "execution_count": 18,
   "metadata": {},
   "outputs": [
    {
     "output_type": "stream",
     "name": "stdout",
     "text": [
      "{4, 5}\n"
     ]
    },
    {
     "output_type": "execute_result",
     "data": {
      "text/plain": [
       "{4, 5}"
      ]
     },
     "metadata": {},
     "execution_count": 18
    }
   ],
   "source": [
    "# Membuat set A and B\n",
    "A = {1, 2, 3, 4, 5}\n",
    "B = {4, 5, 6, 7, 8}\n",
    "\n",
    "# Irisan menggunakan operator &\n",
    "# output: {4,5}\n",
    "print(A & B)\n",
    "# Menggunakan fungsi intersection()\n",
    "# output: {4,5}\n",
    "A.intersection(B)\n",
    "\n",
    "# output: {4,5}\n",
    "B.intersection(A)\n"
   ]
  },
  {
   "cell_type": "code",
   "execution_count": 19,
   "metadata": {},
   "outputs": [
    {
     "output_type": "stream",
     "name": "stdout",
     "text": [
      "{1, 2, 3, 6, 7, 8}\n{1, 2, 3, 6, 7, 8}\n"
     ]
    },
    {
     "output_type": "execute_result",
     "data": {
      "text/plain": [
       "{1, 2, 3, 6, 7, 8}"
      ]
     },
     "metadata": {},
     "execution_count": 19
    }
   ],
   "source": [
    "# membuat A and B\n",
    "A = {1, 2, 3, 4, 5}\n",
    "B = {4, 5, 6, 7, 8}\n",
    "\n",
    "# Menggunakan operator ^ pada A\n",
    "# Output: {1, 2, 3, 6, 7, 8}\n",
    "print(A ^ B)\n",
    "\n",
    "# Output: {1, 2, 3, 6, 7, 8}\n",
    "A.symmetric_difference(B)\n",
    "\n",
    "# Menggunakan operator ^ pada B\n",
    "# Output: {1, 2, 3, 6, 7, 8}\n",
    "print(B ^ A)\n",
    "\n",
    "# Output: {1, 2, 3, 6, 7, 8}\n",
    "B.symmetric_difference(A)\n"
   ]
  },
  {
   "cell_type": "code",
   "execution_count": null,
   "metadata": {},
   "outputs": [],
   "source": []
  }
 ]
}